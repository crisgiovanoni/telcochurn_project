{
 "cells": [
  {
   "cell_type": "markdown",
   "metadata": {},
   "source": [
    "# Why Are Our Customers Churning?"
   ]
  },
  {
   "cell_type": "markdown",
   "metadata": {},
   "source": [
    "### Quick Reference\n",
    "I. Project Plan  \n",
    "II. Acquire and Split Data  \n",
    "III. Create a Baseline Model with Decision Tree   \n",
    "IV. Explore Data\n",
    "V. Create and Compare Different Models\n",
    "VI. Predict on Test Model using Ω Model\n",
    "VII. Exporting Predictions and Probabilities to CSV"
   ]
  },
  {
   "cell_type": "markdown",
   "metadata": {},
   "source": [
    "## I. Project Plan"
   ]
  },
  {
   "cell_type": "markdown",
   "metadata": {},
   "source": [
    "### Summary\n",
    "\n",
    "Zach, my team leader @ Telco Corp, wants to find out why our customers churning.  \n",
    "\n",
    "Below is a list of questions he wants answers to: _tk, theres a new question from Maggie_\n",
    "\n",
    "1. Are there features that indicate a higher propensity to churn? like type of internet service, type of phone service, online security and backup, senior citizens, paying more than x% of customers with the same services, etc.?\n",
    "2. Is there a price threshold for specific services where the likelihood of churn increases once price for those services goes past that point? If so, what is that point for what service(s)?\n",
    "3. If we looked at churn rate for month-to-month customers after the 12th month and that of 1-year contract customers after the 12th month, are those rates comparable?\n",
    "\n",
    "### Goals\n",
    "\n",
    "The goals of the project are to answer the questions above and to deliver the following data products:\n",
    "\n",
    "1. Report detailing my analysis in an .ipynb format\n",
    "2. CSV file containing my predictions on a test data set\n",
    "3. Google Slides explaining my chosen model\n",
    "4. .py files that are used through the entire pipeline, and that contains _reproducible_ python scripts\n",
    "5. Read Me file on a github repo containing all files created for this project\n",
    "  \n",
    "### Data Dictionary for Encoded Attributes used in Modelling\n",
    "|Encoded Attribute \t| Description \t| Legend \t|\n",
    "|---------\t|-------------\t|-------\t|\n",
    "|prod_online_bs       |Merged online back-up and security |0: Has neither, 1:Has atleast one, 2: Has both       \t|\n",
    "|prod_stream         |Merged streaming tv and movies |0: Streams neither, 1:Streams either 2: Streams both                 \t|\n",
    "|prod_tech         \t|From tech support             \t|0: No tech support, 1: Has tech support                 \t|\n",
    "|prod_device         |From device protection             \t|0: No device protection, 1: Has device protection                 \t|       \t|\n",
    "|prod_paperless        |From paperless billing             \t|0: Not paperless billing, 1: Paperless billing                 \t|       \t|\n",
    "|contract_type_id      |Originally encoded contract types             \t|0: Month-to-Month, 1: 1-year, 2:2-year                 \t|       \t|\n",
    "|internet_service_type_id |Originally encoded internet service types   |0:DSL, 1:Fiber Optic, 2: None                 \t|       \t|\n",
    "|payment_type_id     |Originally encoded payment types             \t|0:Electronic check, 1:Mailed check, 2: Bank transfer, 3:Credit card                 \t|       \t|\n",
    "|senior_citizen     |Originally encoded senior, non-senior distinction   \t|0:Non-senior, 1:Senior                 \t|       \t|\n",
    "|seg_household     |Merged from partner and dependents             \t|0:Single-member, 1:Two-member, 2: More-than-two-member           \t|\n",
    "|monthly_charges  |Originally encoded monthly charges             \t|Float type dollar amount                 \t|       \t|\n",
    "|tenure         \t|Originally encoded tenure, in total months of subscription with company             \t|Integer type in months                  \t|\n",
    "|enc_churn         \t|Encoded from churn             \t|0:Stayed, 1:Churned                 \t|"
   ]
  },
  {
   "cell_type": "markdown",
   "metadata": {},
   "source": [
    "### Packages"
   ]
  },
  {
   "cell_type": "code",
   "execution_count": 294,
   "metadata": {},
   "outputs": [],
   "source": [
    "import pandas as pd\n",
    "import numpy as np\n",
    "import seaborn as sns\n",
    "import pandas_profiling\n",
    "import matplotlib.pyplot as plt\n",
    "from scipy import stats\n",
    "\n",
    "from sklearn.preprocessing import LabelEncoder, OrdinalEncoder\n",
    "\n",
    "import wrangle\n",
    "import prep\n",
    "import model\n",
    "import explore\n",
    "\n",
    "from sklearn.model_selection import train_test_split\n",
    "from sklearn.tree import export_graphviz, DecisionTreeClassifier\n",
    "import graphviz\n",
    "from sklearn.metrics import confusion_matrix\n",
    "from sklearn.metrics import classification_report\n",
    "\n",
    "import warnings\n",
    "warnings.filterwarnings(\"ignore\")\n",
    "\n",
    "from scipy.stats import binom\n",
    "\n",
    "from sklearn.model_selection import train_test_split\n",
    "from sklearn.neighbors import KNeighborsClassifier\n",
    "from sklearn.metrics import classification_report\n",
    "from sklearn.metrics import confusion_matrix\n",
    "from sklearn.linear_model import LogisticRegression\n",
    "\n",
    "from sklearn.preprocessing import RobustScaler"
   ]
  },
  {
   "cell_type": "markdown",
   "metadata": {},
   "source": [
    "## I: Acquire and Split Data"
   ]
  },
  {
   "cell_type": "markdown",
   "metadata": {},
   "source": [
    "Using the `get_sql_telcochurn` function from `wrangle.py`, acquire data from `telco_churn` database on MySQL."
   ]
  },
  {
   "cell_type": "code",
   "execution_count": 3,
   "metadata": {},
   "outputs": [],
   "source": [
    "telco = wrangle.get_sql_telco()"
   ]
  },
  {
   "cell_type": "markdown",
   "metadata": {},
   "source": [
    "Split data to train and test, and set aside test data."
   ]
  },
  {
   "cell_type": "code",
   "execution_count": 4,
   "metadata": {},
   "outputs": [
    {
     "name": "stdout",
     "output_type": "stream",
     "text": [
      "<class 'pandas.core.frame.DataFrame'>\n",
      "RangeIndex: 7043 entries, 0 to 7042\n",
      "Data columns (total 21 columns):\n",
      "customer_id                 7043 non-null object\n",
      "gender                      7043 non-null object\n",
      "senior_citizen              7043 non-null int64\n",
      "partner                     7043 non-null object\n",
      "dependents                  7043 non-null object\n",
      "tenure                      7043 non-null int64\n",
      "phone_service               7043 non-null object\n",
      "multiple_lines              7043 non-null object\n",
      "internet_service_type_id    7043 non-null int64\n",
      "online_security             7043 non-null object\n",
      "online_backup               7043 non-null object\n",
      "device_protection           7043 non-null object\n",
      "tech_support                7043 non-null object\n",
      "streaming_tv                7043 non-null object\n",
      "streaming_movies            7043 non-null object\n",
      "contract_type_id            7043 non-null int64\n",
      "paperless_billing           7043 non-null object\n",
      "payment_type_id             7043 non-null int64\n",
      "monthly_charges             7043 non-null float64\n",
      "total_charges               7043 non-null object\n",
      "churn                       7043 non-null object\n",
      "dtypes: float64(1), int64(5), object(15)\n",
      "memory usage: 1.1+ MB\n"
     ]
    }
   ],
   "source": [
    "telco.info()"
   ]
  },
  {
   "cell_type": "code",
   "execution_count": 5,
   "metadata": {},
   "outputs": [
    {
     "data": {
      "text/plain": [
       "customer_id                  0\n",
       "gender                       0\n",
       "senior_citizen               0\n",
       "partner                      0\n",
       "dependents                   0\n",
       "tenure                       0\n",
       "phone_service                0\n",
       "multiple_lines               0\n",
       "internet_service_type_id     0\n",
       "online_security              0\n",
       "online_backup                0\n",
       "device_protection            0\n",
       "tech_support                 0\n",
       "streaming_tv                 0\n",
       "streaming_movies             0\n",
       "contract_type_id             0\n",
       "paperless_billing            0\n",
       "payment_type_id              0\n",
       "monthly_charges              0\n",
       "total_charges               11\n",
       "churn                        0\n",
       "dtype: int64"
      ]
     },
     "execution_count": 5,
     "metadata": {},
     "output_type": "execute_result"
    }
   ],
   "source": [
    "telco = telco.replace(\" \",np.nan)\n",
    "telco.isnull().sum()"
   ]
  },
  {
   "cell_type": "markdown",
   "metadata": {},
   "source": [
    "`total_charges` is an object type. There are 11 observations in the dataset that are encoded as empty. These observations are making the `total_charges` attribute an object instead of a float type.\n",
    "\n",
    "With the quantity of our total data set (7043) and the time alloted for the project, I could afford losing 11 observations to facilitate analysis. Therefore, I am dropping all the nulls hereon.\n",
    "\n",
    ">Action Steps:  \n",
    " >- Drop NaNs using `dropna()`\n",
    " >- Cast `total_charges` values to a float data type"
   ]
  },
  {
   "cell_type": "code",
   "execution_count": 6,
   "metadata": {},
   "outputs": [
    {
     "name": "stdout",
     "output_type": "stream",
     "text": [
      "\n",
      "From the original train count of 7043, telco now has a 7032 observations. Also, total charges is now a \"float64\" data type.\n",
      "\n"
     ]
    }
   ],
   "source": [
    "telco = telco.dropna()\n",
    "telco.total_charges = telco.total_charges.astype(\"float\")\n",
    "\n",
    "print(f\"\"\"\n",
    "From the original train count of 7043, telco now has a {len(telco)} observations. Also, total charges is now a \"{telco.total_charges.dtype}\" data type.\n",
    "\"\"\")"
   ]
  },
  {
   "cell_type": "markdown",
   "metadata": {},
   "source": [
    "### Split Test and Train Data"
   ]
  },
  {
   "cell_type": "code",
   "execution_count": 7,
   "metadata": {},
   "outputs": [
    {
     "name": "stdout",
     "output_type": "stream",
     "text": [
      "\n",
      "Train data size: 4922\n",
      "Test data size: 2110\n",
      "\n"
     ]
    }
   ],
   "source": [
    "train, test = train_test_split(telco, train_size=0.7, random_state=123)\n",
    "\n",
    "print(f\"\"\"\n",
    "Train data size: {len(train)}\n",
    "Test data size: {len(test)}\n",
    "\"\"\")"
   ]
  },
  {
   "cell_type": "markdown",
   "metadata": {},
   "source": [
    "## III. Create a Baseline Model with Decision Tree"
   ]
  },
  {
   "cell_type": "markdown",
   "metadata": {},
   "source": [
    "Because Decision Tree accepts discrete and continuous features, I will create baseline model using a Decision Tree.  \n",
    "> Action Steps:\n",
    "> - Encode `churn` into a computer-readable variable with 0s and 1s values, such that 0 = No (Stayed), 1 = Yes (Churned). Use `int_encode` function from `prep`\n",
    "   "
   ]
  },
  {
   "cell_type": "code",
   "execution_count": 9,
   "metadata": {},
   "outputs": [],
   "source": [
    "train[\"enc_churn\"] = train.churn.apply(prep.yes_no_to_boolean)"
   ]
  },
  {
   "cell_type": "code",
   "execution_count": 10,
   "metadata": {},
   "outputs": [],
   "source": [
    "X_train=train[[\"senior_citizen\",\"tenure\",\"internet_service_type_id\",\"contract_type_id\",\"payment_type_id\",\"monthly_charges\"]]\n",
    "y_train=train.enc_churn"
   ]
  },
  {
   "cell_type": "markdown",
   "metadata": {},
   "source": [
    "### Create a baseline model using Decision Tree"
   ]
  },
  {
   "cell_type": "markdown",
   "metadata": {},
   "source": [
    "Using `model_by_cart` function from `model.py`, create a decision tree model using all variables with numeric data as features (X), and the encoded churn variable `train.enc_churn` as the target variable (y)."
   ]
  },
  {
   "cell_type": "code",
   "execution_count": 11,
   "metadata": {},
   "outputs": [],
   "source": [
    "yhat_trainb, yhat_trainb_proba, dt = model.model_by_cart(X_train,y_train,\"entropy\",3)"
   ]
  },
  {
   "cell_type": "code",
   "execution_count": 12,
   "metadata": {},
   "outputs": [
    {
     "name": "stdout",
     "output_type": "stream",
     "text": [
      "\n",
      "Baseline Predictions:\n",
      "[0 0 0 ... 0 0 0]\n",
      "  \n",
      "Probabilities of Baseline Predictions:\n",
      "[[0.80952381 0.19047619]\n",
      " [0.55687204 0.44312796]\n",
      " [0.55687204 0.44312796]\n",
      " ...\n",
      " [0.60187668 0.39812332]\n",
      " [0.95333333 0.04666667]\n",
      " [0.80952381 0.19047619]]\n",
      "\n"
     ]
    }
   ],
   "source": [
    "print(f\"\"\"\n",
    "Baseline Predictions:\n",
    "{yhat_trainb}\n",
    "  \n",
    "Probabilities of Baseline Predictions:\n",
    "{yhat_trainb_proba}\n",
    "\"\"\")"
   ]
  },
  {
   "cell_type": "code",
   "execution_count": 13,
   "metadata": {},
   "outputs": [
    {
     "name": "stdout",
     "output_type": "stream",
     "text": [
      "0.7870784234051199\n"
     ]
    }
   ],
   "source": [
    "trainb_accuracy = dt.score(X_train, y_train)\n",
    "print(trainb_accuracy)"
   ]
  },
  {
   "cell_type": "code",
   "execution_count": 14,
   "metadata": {},
   "outputs": [
    {
     "data": {
      "text/html": [
       "<div>\n",
       "<style scoped>\n",
       "    .dataframe tbody tr th:only-of-type {\n",
       "        vertical-align: middle;\n",
       "    }\n",
       "\n",
       "    .dataframe tbody tr th {\n",
       "        vertical-align: top;\n",
       "    }\n",
       "\n",
       "    .dataframe thead th {\n",
       "        text-align: right;\n",
       "    }\n",
       "</style>\n",
       "<table border=\"1\" class=\"dataframe\">\n",
       "  <thead>\n",
       "    <tr style=\"text-align: right;\">\n",
       "      <th></th>\n",
       "      <th>stayed</th>\n",
       "      <th>churned</th>\n",
       "    </tr>\n",
       "  </thead>\n",
       "  <tbody>\n",
       "    <tr>\n",
       "      <th>stayed</th>\n",
       "      <td>3343</td>\n",
       "      <td>267</td>\n",
       "    </tr>\n",
       "    <tr>\n",
       "      <th>churned</th>\n",
       "      <td>781</td>\n",
       "      <td>531</td>\n",
       "    </tr>\n",
       "  </tbody>\n",
       "</table>\n",
       "</div>"
      ],
      "text/plain": [
       "         stayed  churned\n",
       "stayed     3343      267\n",
       "churned     781      531"
      ]
     },
     "execution_count": 14,
     "metadata": {},
     "output_type": "execute_result"
    }
   ],
   "source": [
    "labels = [\"stayed\",\"churned\"]\n",
    "trainb_conf = pd.DataFrame(confusion_matrix(y_train, yhat_trainb), index=labels, columns=labels)\n",
    "trainb_conf"
   ]
  },
  {
   "cell_type": "code",
   "execution_count": 15,
   "metadata": {},
   "outputs": [
    {
     "name": "stdout",
     "output_type": "stream",
     "text": [
      "              precision    recall  f1-score   support\n",
      "\n",
      "           0       0.81      0.93      0.86      3610\n",
      "           1       0.67      0.40      0.50      1312\n",
      "\n",
      "    accuracy                           0.79      4922\n",
      "   macro avg       0.74      0.67      0.68      4922\n",
      "weighted avg       0.77      0.79      0.77      4922\n",
      "\n"
     ]
    }
   ],
   "source": [
    "trainb_report = classification_report(y_train, yhat_trainb)\n",
    "print(trainb_report)"
   ]
  },
  {
   "cell_type": "markdown",
   "metadata": {},
   "source": [
    "![baseline_decision_tree](baseline_dtb.jpg)"
   ]
  },
  {
   "cell_type": "markdown",
   "metadata": {},
   "source": [
    "This is the code to produce the above decision tree diagram.\n",
    ">dot_data = export_graphviz(dt, out_file=None)  \n",
    ">graph = graphviz.Source(dot_data)  \n",
    ">graph.render('telco_dtb', view=True)"
   ]
  },
  {
   "cell_type": "markdown",
   "metadata": {},
   "source": [
    "## IV. Exploration"
   ]
  },
  {
   "cell_type": "markdown",
   "metadata": {},
   "source": [
    "There are two underlying reasons why we ask the question - why are our customers churning:\n",
    " - Churn is a consumer behavior. So we want to understand the consumers that drive this behavior.\n",
    " - Of those consumers who churned, what made them cease their subscription, in other words, what are their motivations for leaving?\n",
    "  \n",
    "  \n",
    "With the above in mind, these are the steps that I will undertake in data exploration:\n",
    "1. Add features that encompass the consumer segments in the data. Doing so will help us understand WHO are churning.\n",
    "    - Male\n",
    "    - Female\n",
    "    - Senior\n",
    "    - Non-senior\n",
    "    - Single household\n",
    "    - Multiple household\n",
    "    \n",
    "2. Run a Chi-square test to see if the correlations between these segments and the act of churning are statistically significant.\n",
    "\n",
    "3. Proceed to explore the segments, adding the product dimension. Now, we are able to understand WHO AND WHAT makes them likely to churn to round up our understanding of Churning as a Consumer Behavior.\n",
    "    - phone service/multiple lines\n",
    "    - internet service\n",
    "    - online backup and security\n",
    "    - streaming\n",
    "    - tech support\n",
    "    - billing method\n",
    "    - payment method\n",
    "    - charges\n",
    "    - tenure"
   ]
  },
  {
   "cell_type": "markdown",
   "metadata": {},
   "source": [
    "#### Add Features (Consumer Segment)"
   ]
  },
  {
   "cell_type": "code",
   "execution_count": 16,
   "metadata": {},
   "outputs": [],
   "source": [
    "train[\"seg_gender\"] = prep.order_encode(train[[\"gender\"]],[\"Male\",\"Female\"])\n",
    "train[\"seg_household\"] = prep.order_encode(train[[\"dependents\"]],[\"No\",\"Yes\"]) + prep.order_encode(train[[\"partner\"]],[\"No\",\"Yes\"])"
   ]
  },
  {
   "cell_type": "code",
   "execution_count": 17,
   "metadata": {},
   "outputs": [
    {
     "data": {
      "text/html": [
       "<div>\n",
       "<style scoped>\n",
       "    .dataframe tbody tr th:only-of-type {\n",
       "        vertical-align: middle;\n",
       "    }\n",
       "\n",
       "    .dataframe tbody tr th {\n",
       "        vertical-align: top;\n",
       "    }\n",
       "\n",
       "    .dataframe thead th {\n",
       "        text-align: right;\n",
       "    }\n",
       "</style>\n",
       "<table border=\"1\" class=\"dataframe\">\n",
       "  <thead>\n",
       "    <tr style=\"text-align: right;\">\n",
       "      <th></th>\n",
       "      <th>customer_id</th>\n",
       "      <th>gender</th>\n",
       "      <th>senior_citizen</th>\n",
       "      <th>partner</th>\n",
       "      <th>dependents</th>\n",
       "      <th>tenure</th>\n",
       "      <th>phone_service</th>\n",
       "      <th>multiple_lines</th>\n",
       "      <th>internet_service_type_id</th>\n",
       "      <th>online_security</th>\n",
       "      <th>...</th>\n",
       "      <th>streaming_movies</th>\n",
       "      <th>contract_type_id</th>\n",
       "      <th>paperless_billing</th>\n",
       "      <th>payment_type_id</th>\n",
       "      <th>monthly_charges</th>\n",
       "      <th>total_charges</th>\n",
       "      <th>churn</th>\n",
       "      <th>enc_churn</th>\n",
       "      <th>seg_gender</th>\n",
       "      <th>seg_household</th>\n",
       "    </tr>\n",
       "  </thead>\n",
       "  <tbody>\n",
       "    <tr>\n",
       "      <th>316</th>\n",
       "      <td>0468-YRPXN</td>\n",
       "      <td>Male</td>\n",
       "      <td>0</td>\n",
       "      <td>No</td>\n",
       "      <td>No</td>\n",
       "      <td>29</td>\n",
       "      <td>Yes</td>\n",
       "      <td>No</td>\n",
       "      <td>2</td>\n",
       "      <td>No</td>\n",
       "      <td>...</td>\n",
       "      <td>Yes</td>\n",
       "      <td>1</td>\n",
       "      <td>Yes</td>\n",
       "      <td>4</td>\n",
       "      <td>98.80</td>\n",
       "      <td>2807.10</td>\n",
       "      <td>No</td>\n",
       "      <td>0</td>\n",
       "      <td>0</td>\n",
       "      <td>0</td>\n",
       "    </tr>\n",
       "    <tr>\n",
       "      <th>5117</th>\n",
       "      <td>7197-VOJMM</td>\n",
       "      <td>Male</td>\n",
       "      <td>0</td>\n",
       "      <td>Yes</td>\n",
       "      <td>No</td>\n",
       "      <td>67</td>\n",
       "      <td>Yes</td>\n",
       "      <td>No</td>\n",
       "      <td>1</td>\n",
       "      <td>Yes</td>\n",
       "      <td>...</td>\n",
       "      <td>Yes</td>\n",
       "      <td>3</td>\n",
       "      <td>Yes</td>\n",
       "      <td>4</td>\n",
       "      <td>69.20</td>\n",
       "      <td>4671.65</td>\n",
       "      <td>No</td>\n",
       "      <td>0</td>\n",
       "      <td>0</td>\n",
       "      <td>1</td>\n",
       "    </tr>\n",
       "    <tr>\n",
       "      <th>6861</th>\n",
       "      <td>9746-YKGXB</td>\n",
       "      <td>Male</td>\n",
       "      <td>0</td>\n",
       "      <td>Yes</td>\n",
       "      <td>Yes</td>\n",
       "      <td>52</td>\n",
       "      <td>No</td>\n",
       "      <td>No phone service</td>\n",
       "      <td>1</td>\n",
       "      <td>Yes</td>\n",
       "      <td>...</td>\n",
       "      <td>Yes</td>\n",
       "      <td>2</td>\n",
       "      <td>No</td>\n",
       "      <td>3</td>\n",
       "      <td>44.25</td>\n",
       "      <td>2276.10</td>\n",
       "      <td>No</td>\n",
       "      <td>0</td>\n",
       "      <td>0</td>\n",
       "      <td>2</td>\n",
       "    </tr>\n",
       "    <tr>\n",
       "      <th>3010</th>\n",
       "      <td>4307-KWMXE</td>\n",
       "      <td>Male</td>\n",
       "      <td>0</td>\n",
       "      <td>No</td>\n",
       "      <td>No</td>\n",
       "      <td>10</td>\n",
       "      <td>No</td>\n",
       "      <td>No phone service</td>\n",
       "      <td>1</td>\n",
       "      <td>No</td>\n",
       "      <td>...</td>\n",
       "      <td>No</td>\n",
       "      <td>1</td>\n",
       "      <td>No</td>\n",
       "      <td>1</td>\n",
       "      <td>35.75</td>\n",
       "      <td>389.80</td>\n",
       "      <td>No</td>\n",
       "      <td>0</td>\n",
       "      <td>0</td>\n",
       "      <td>0</td>\n",
       "    </tr>\n",
       "    <tr>\n",
       "      <th>1381</th>\n",
       "      <td>2041-JIJCI</td>\n",
       "      <td>Female</td>\n",
       "      <td>0</td>\n",
       "      <td>No</td>\n",
       "      <td>No</td>\n",
       "      <td>5</td>\n",
       "      <td>Yes</td>\n",
       "      <td>Yes</td>\n",
       "      <td>1</td>\n",
       "      <td>No</td>\n",
       "      <td>...</td>\n",
       "      <td>Yes</td>\n",
       "      <td>1</td>\n",
       "      <td>Yes</td>\n",
       "      <td>1</td>\n",
       "      <td>64.00</td>\n",
       "      <td>370.25</td>\n",
       "      <td>No</td>\n",
       "      <td>0</td>\n",
       "      <td>1</td>\n",
       "      <td>0</td>\n",
       "    </tr>\n",
       "    <tr>\n",
       "      <th>604</th>\n",
       "      <td>0885-HMGPY</td>\n",
       "      <td>Male</td>\n",
       "      <td>0</td>\n",
       "      <td>No</td>\n",
       "      <td>No</td>\n",
       "      <td>62</td>\n",
       "      <td>Yes</td>\n",
       "      <td>Yes</td>\n",
       "      <td>1</td>\n",
       "      <td>Yes</td>\n",
       "      <td>...</td>\n",
       "      <td>No</td>\n",
       "      <td>3</td>\n",
       "      <td>No</td>\n",
       "      <td>3</td>\n",
       "      <td>69.40</td>\n",
       "      <td>4237.50</td>\n",
       "      <td>No</td>\n",
       "      <td>0</td>\n",
       "      <td>0</td>\n",
       "      <td>0</td>\n",
       "    </tr>\n",
       "    <tr>\n",
       "      <th>5280</th>\n",
       "      <td>7449-HVPIV</td>\n",
       "      <td>Male</td>\n",
       "      <td>0</td>\n",
       "      <td>Yes</td>\n",
       "      <td>Yes</td>\n",
       "      <td>55</td>\n",
       "      <td>Yes</td>\n",
       "      <td>Yes</td>\n",
       "      <td>2</td>\n",
       "      <td>No</td>\n",
       "      <td>...</td>\n",
       "      <td>No</td>\n",
       "      <td>1</td>\n",
       "      <td>Yes</td>\n",
       "      <td>4</td>\n",
       "      <td>90.40</td>\n",
       "      <td>5099.15</td>\n",
       "      <td>No</td>\n",
       "      <td>0</td>\n",
       "      <td>0</td>\n",
       "      <td>2</td>\n",
       "    </tr>\n",
       "    <tr>\n",
       "      <th>2290</th>\n",
       "      <td>3274-NSDWE</td>\n",
       "      <td>Female</td>\n",
       "      <td>0</td>\n",
       "      <td>No</td>\n",
       "      <td>No</td>\n",
       "      <td>68</td>\n",
       "      <td>Yes</td>\n",
       "      <td>No</td>\n",
       "      <td>3</td>\n",
       "      <td>No internet service</td>\n",
       "      <td>...</td>\n",
       "      <td>No internet service</td>\n",
       "      <td>3</td>\n",
       "      <td>No</td>\n",
       "      <td>4</td>\n",
       "      <td>19.60</td>\n",
       "      <td>1441.65</td>\n",
       "      <td>No</td>\n",
       "      <td>0</td>\n",
       "      <td>1</td>\n",
       "      <td>0</td>\n",
       "    </tr>\n",
       "    <tr>\n",
       "      <th>390</th>\n",
       "      <td>0577-WHMEV</td>\n",
       "      <td>Female</td>\n",
       "      <td>0</td>\n",
       "      <td>Yes</td>\n",
       "      <td>No</td>\n",
       "      <td>16</td>\n",
       "      <td>Yes</td>\n",
       "      <td>Yes</td>\n",
       "      <td>2</td>\n",
       "      <td>Yes</td>\n",
       "      <td>...</td>\n",
       "      <td>No</td>\n",
       "      <td>1</td>\n",
       "      <td>No</td>\n",
       "      <td>1</td>\n",
       "      <td>90.70</td>\n",
       "      <td>1374.90</td>\n",
       "      <td>No</td>\n",
       "      <td>0</td>\n",
       "      <td>1</td>\n",
       "      <td>1</td>\n",
       "    </tr>\n",
       "    <tr>\n",
       "      <th>1676</th>\n",
       "      <td>2446-PLQVO</td>\n",
       "      <td>Male</td>\n",
       "      <td>0</td>\n",
       "      <td>No</td>\n",
       "      <td>No</td>\n",
       "      <td>1</td>\n",
       "      <td>Yes</td>\n",
       "      <td>No</td>\n",
       "      <td>2</td>\n",
       "      <td>No</td>\n",
       "      <td>...</td>\n",
       "      <td>No</td>\n",
       "      <td>1</td>\n",
       "      <td>Yes</td>\n",
       "      <td>1</td>\n",
       "      <td>70.30</td>\n",
       "      <td>70.30</td>\n",
       "      <td>Yes</td>\n",
       "      <td>1</td>\n",
       "      <td>0</td>\n",
       "      <td>0</td>\n",
       "    </tr>\n",
       "  </tbody>\n",
       "</table>\n",
       "<p>10 rows × 24 columns</p>\n",
       "</div>"
      ],
      "text/plain": [
       "     customer_id  gender  senior_citizen partner dependents  tenure  \\\n",
       "316   0468-YRPXN    Male               0      No         No      29   \n",
       "5117  7197-VOJMM    Male               0     Yes         No      67   \n",
       "6861  9746-YKGXB    Male               0     Yes        Yes      52   \n",
       "3010  4307-KWMXE    Male               0      No         No      10   \n",
       "1381  2041-JIJCI  Female               0      No         No       5   \n",
       "604   0885-HMGPY    Male               0      No         No      62   \n",
       "5280  7449-HVPIV    Male               0     Yes        Yes      55   \n",
       "2290  3274-NSDWE  Female               0      No         No      68   \n",
       "390   0577-WHMEV  Female               0     Yes         No      16   \n",
       "1676  2446-PLQVO    Male               0      No         No       1   \n",
       "\n",
       "     phone_service    multiple_lines  internet_service_type_id  \\\n",
       "316            Yes                No                         2   \n",
       "5117           Yes                No                         1   \n",
       "6861            No  No phone service                         1   \n",
       "3010            No  No phone service                         1   \n",
       "1381           Yes               Yes                         1   \n",
       "604            Yes               Yes                         1   \n",
       "5280           Yes               Yes                         2   \n",
       "2290           Yes                No                         3   \n",
       "390            Yes               Yes                         2   \n",
       "1676           Yes                No                         2   \n",
       "\n",
       "          online_security  ...     streaming_movies contract_type_id  \\\n",
       "316                    No  ...                  Yes                1   \n",
       "5117                  Yes  ...                  Yes                3   \n",
       "6861                  Yes  ...                  Yes                2   \n",
       "3010                   No  ...                   No                1   \n",
       "1381                   No  ...                  Yes                1   \n",
       "604                   Yes  ...                   No                3   \n",
       "5280                   No  ...                   No                1   \n",
       "2290  No internet service  ...  No internet service                3   \n",
       "390                   Yes  ...                   No                1   \n",
       "1676                   No  ...                   No                1   \n",
       "\n",
       "     paperless_billing payment_type_id monthly_charges  total_charges churn  \\\n",
       "316                Yes               4           98.80        2807.10    No   \n",
       "5117               Yes               4           69.20        4671.65    No   \n",
       "6861                No               3           44.25        2276.10    No   \n",
       "3010                No               1           35.75         389.80    No   \n",
       "1381               Yes               1           64.00         370.25    No   \n",
       "604                 No               3           69.40        4237.50    No   \n",
       "5280               Yes               4           90.40        5099.15    No   \n",
       "2290                No               4           19.60        1441.65    No   \n",
       "390                 No               1           90.70        1374.90    No   \n",
       "1676               Yes               1           70.30          70.30   Yes   \n",
       "\n",
       "      enc_churn  seg_gender  seg_household  \n",
       "316           0           0              0  \n",
       "5117          0           0              1  \n",
       "6861          0           0              2  \n",
       "3010          0           0              0  \n",
       "1381          0           1              0  \n",
       "604           0           0              0  \n",
       "5280          0           0              2  \n",
       "2290          0           1              0  \n",
       "390           0           1              1  \n",
       "1676          1           0              0  \n",
       "\n",
       "[10 rows x 24 columns]"
      ]
     },
     "execution_count": 17,
     "metadata": {},
     "output_type": "execute_result"
    }
   ],
   "source": [
    "train.sample(10)"
   ]
  },
  {
   "cell_type": "markdown",
   "metadata": {},
   "source": [
    "#### Run Chi-Square Tests for Each Segments"
   ]
  },
  {
   "cell_type": "markdown",
   "metadata": {},
   "source": [
    "1. Chi2-Test for Senior and Non-senior"
   ]
  },
  {
   "cell_type": "code",
   "execution_count": 18,
   "metadata": {},
   "outputs": [
    {
     "data": {
      "text/html": [
       "<div>\n",
       "<style scoped>\n",
       "    .dataframe tbody tr th:only-of-type {\n",
       "        vertical-align: middle;\n",
       "    }\n",
       "\n",
       "    .dataframe tbody tr th {\n",
       "        vertical-align: top;\n",
       "    }\n",
       "\n",
       "    .dataframe thead th {\n",
       "        text-align: right;\n",
       "    }\n",
       "</style>\n",
       "<table border=\"1\" class=\"dataframe\">\n",
       "  <thead>\n",
       "    <tr style=\"text-align: right;\">\n",
       "      <th>enc_churn</th>\n",
       "      <th>0</th>\n",
       "      <th>1</th>\n",
       "    </tr>\n",
       "    <tr>\n",
       "      <th>senior_citizen</th>\n",
       "      <th></th>\n",
       "      <th></th>\n",
       "    </tr>\n",
       "  </thead>\n",
       "  <tbody>\n",
       "    <tr>\n",
       "      <th>0</th>\n",
       "      <td>3168</td>\n",
       "      <td>968</td>\n",
       "    </tr>\n",
       "    <tr>\n",
       "      <th>1</th>\n",
       "      <td>442</td>\n",
       "      <td>344</td>\n",
       "    </tr>\n",
       "  </tbody>\n",
       "</table>\n",
       "</div>"
      ],
      "text/plain": [
       "enc_churn          0    1\n",
       "senior_citizen           \n",
       "0               3168  968\n",
       "1                442  344"
      ]
     },
     "execution_count": 18,
     "metadata": {},
     "output_type": "execute_result"
    }
   ],
   "source": [
    "observed_senior = pd.crosstab(train.senior_citizen, train.enc_churn)\n",
    "observed_senior"
   ]
  },
  {
   "cell_type": "code",
   "execution_count": 19,
   "metadata": {},
   "outputs": [
    {
     "name": "stdout",
     "output_type": "stream",
     "text": [
      "[[3033.51483137 1102.48516863]\n",
      " [ 576.48516863  209.51483137]]\n",
      "p-val: 4.34850778895587e-32\n"
     ]
    }
   ],
   "source": [
    "chi2, p_senior, degf, expected_senior = stats.chi2_contingency(observed_senior)\n",
    "\n",
    "print(expected_senior)\n",
    "print(f\"p-val: {p_senior}\")"
   ]
  },
  {
   "cell_type": "markdown",
   "metadata": {},
   "source": [
    "> **Takeaways:**\n",
    "1. p-value is less than $\\alpha\\$. Therefore, senior as a segment is statistically significant.\n",
    "2. There's a 64% increase in the number of seniors who churned, from expected to observed. This is huge compared to the other variant rates that are between 4-23%."
   ]
  },
  {
   "cell_type": "markdown",
   "metadata": {},
   "source": [
    "2. Chi2-Test for Male and Female"
   ]
  },
  {
   "cell_type": "code",
   "execution_count": 20,
   "metadata": {},
   "outputs": [
    {
     "data": {
      "text/html": [
       "<div>\n",
       "<style scoped>\n",
       "    .dataframe tbody tr th:only-of-type {\n",
       "        vertical-align: middle;\n",
       "    }\n",
       "\n",
       "    .dataframe tbody tr th {\n",
       "        vertical-align: top;\n",
       "    }\n",
       "\n",
       "    .dataframe thead th {\n",
       "        text-align: right;\n",
       "    }\n",
       "</style>\n",
       "<table border=\"1\" class=\"dataframe\">\n",
       "  <thead>\n",
       "    <tr style=\"text-align: right;\">\n",
       "      <th>enc_churn</th>\n",
       "      <th>0</th>\n",
       "      <th>1</th>\n",
       "    </tr>\n",
       "    <tr>\n",
       "      <th>seg_gender</th>\n",
       "      <th></th>\n",
       "      <th></th>\n",
       "    </tr>\n",
       "  </thead>\n",
       "  <tbody>\n",
       "    <tr>\n",
       "      <th>0</th>\n",
       "      <td>0.369565</td>\n",
       "      <td>0.132466</td>\n",
       "    </tr>\n",
       "    <tr>\n",
       "      <th>1</th>\n",
       "      <td>0.363876</td>\n",
       "      <td>0.134092</td>\n",
       "    </tr>\n",
       "  </tbody>\n",
       "</table>\n",
       "</div>"
      ],
      "text/plain": [
       "enc_churn          0         1\n",
       "seg_gender                    \n",
       "0           0.369565  0.132466\n",
       "1           0.363876  0.134092"
      ]
     },
     "execution_count": 20,
     "metadata": {},
     "output_type": "execute_result"
    }
   ],
   "source": [
    "gender_matrix = pd.crosstab(train.seg_gender, train.enc_churn, normalize=True)\n",
    "gender_matrix"
   ]
  },
  {
   "cell_type": "markdown",
   "metadata": {},
   "source": [
    "> **Takeaways:**  \n",
    "p-value is less than $\\alpha\\$. But looking at the proportion of churning vs gender, rates seem comparable. So I will not explore the gender segment further as there are no compelling patterns. I recommend creating a Cramer's V function to test for the strength of correlation for gender to validate my assumption."
   ]
  },
  {
   "cell_type": "markdown",
   "metadata": {},
   "source": [
    "2. Chi2-Test for Household Size (0: Single-member, 1: Two-member, 2: More than 2-member)"
   ]
  },
  {
   "cell_type": "code",
   "execution_count": 21,
   "metadata": {},
   "outputs": [
    {
     "data": {
      "text/html": [
       "<div>\n",
       "<style scoped>\n",
       "    .dataframe tbody tr th:only-of-type {\n",
       "        vertical-align: middle;\n",
       "    }\n",
       "\n",
       "    .dataframe tbody tr th {\n",
       "        vertical-align: top;\n",
       "    }\n",
       "\n",
       "    .dataframe thead th {\n",
       "        text-align: right;\n",
       "    }\n",
       "</style>\n",
       "<table border=\"1\" class=\"dataframe\">\n",
       "  <thead>\n",
       "    <tr style=\"text-align: right;\">\n",
       "      <th>enc_churn</th>\n",
       "      <th>0</th>\n",
       "      <th>1</th>\n",
       "    </tr>\n",
       "    <tr>\n",
       "      <th>seg_household</th>\n",
       "      <th></th>\n",
       "      <th></th>\n",
       "    </tr>\n",
       "  </thead>\n",
       "  <tbody>\n",
       "    <tr>\n",
       "      <th>0</th>\n",
       "      <td>1517</td>\n",
       "      <td>796</td>\n",
       "    </tr>\n",
       "    <tr>\n",
       "      <th>1</th>\n",
       "      <td>1025</td>\n",
       "      <td>338</td>\n",
       "    </tr>\n",
       "    <tr>\n",
       "      <th>2</th>\n",
       "      <td>1068</td>\n",
       "      <td>178</td>\n",
       "    </tr>\n",
       "  </tbody>\n",
       "</table>\n",
       "</div>"
      ],
      "text/plain": [
       "enc_churn         0    1\n",
       "seg_household           \n",
       "0              1517  796\n",
       "1              1025  338\n",
       "2              1068  178"
      ]
     },
     "execution_count": 21,
     "metadata": {},
     "output_type": "execute_result"
    }
   ],
   "source": [
    "observed_household = pd.crosstab(train.seg_household, train.enc_churn)\n",
    "observed_household"
   ]
  },
  {
   "cell_type": "code",
   "execution_count": 22,
   "metadata": {},
   "outputs": [
    {
     "name": "stdout",
     "output_type": "stream",
     "text": [
      "[[1696.45062983  616.54937017]\n",
      " [ 999.68102397  363.31897603]\n",
      " [ 913.8683462   332.1316538 ]]\n",
      "p-val: 6.872527458841416e-38\n"
     ]
    }
   ],
   "source": [
    "chi2, p_household, degf, expected_household = stats.chi2_contingency(observed_household)\n",
    "\n",
    "print(expected_household)\n",
    "print(f\"p-val: {p_household}\")"
   ]
  },
  {
   "cell_type": "markdown",
   "metadata": {},
   "source": [
    "> **Takeaways:**\n",
    "1. p-value is less than $\\alpha\\$. Therefore, senior as a segment is statistically significant.\n",
    "2. There's a 46% decrease in the number of actual churn of more-than-2-household-size group compared to expected. This is a relatively huge variant rates compared to the others. What has made this group stay?\n",
    "3. There's 29% increase in churn rate from the single-member-household group from what was expected to what was observed. This is not a huge number, but it would be interesting to look at this group further."
   ]
  },
  {
   "cell_type": "markdown",
   "metadata": {},
   "source": [
    "#### Add Features (Products)"
   ]
  },
  {
   "cell_type": "code",
   "execution_count": 24,
   "metadata": {},
   "outputs": [],
   "source": [
    "train[\"prod_phone_service\"] = prep.order_encode(train[[\"multiple_lines\"]],[\"No phone service\",\"No\",\"Yes\"])\n",
    "\n",
    "train[\"prod_online_bs\"] = (prep.order_encode(train[[\"online_security\"]],[\"No internet service\",\"No\",\"Yes\"])) - (prep.order_encode(train[[\"online_backup\"]],[\"Yes\",\"No\",\"No internet service\"]))\n",
    "train.prod_online_bs = train.prod_online_bs.replace(-2,0)\n",
    "\n",
    "train[\"prod_stream\"] = (prep.order_encode(train[[\"streaming_tv\"]],[\"No internet service\",\"No\",\"Yes\"])) - (prep.order_encode(train[[\"streaming_movies\"]],[\"Yes\",\"No\",\"No internet service\"]))\n",
    "train.prod_stream = train.prod_stream.replace(-2,0)\n",
    "\n",
    "train[\"prod_tech\"] = (prep.order_encode(train[[\"tech_support\"]],[\"No internet service\",\"No\",\"Yes\"]))\n",
    "\n",
    "train[\"prod_device\"] = (prep.order_encode(train[[\"device_protection\"]],[\"No internet service\",\"No\",\"Yes\"]))\n",
    "\n",
    "train[\"prod_paperless\"] = (prep.order_encode(train[[\"paperless_billing\"]],[\"No\",\"Yes\"]))"
   ]
  },
  {
   "cell_type": "code",
   "execution_count": 25,
   "metadata": {},
   "outputs": [],
   "source": [
    "train_red = train.iloc[:,24:31]\n",
    "train_red[[\"contract_type_id\",\"internet_service_type_id\",\"payment_type_id\",\"senior_citizen\",\"seg_household\",\"monthly_charges\",\"total_charges\",\"tenure\",\"churn\",\"enc_churn\"]] = train[[\"contract_type_id\",\"internet_service_type_id\",\"payment_type_id\",\"senior_citizen\",\"seg_household\",\"monthly_charges\",\"total_charges\",\"tenure\",\"churn\",\"enc_churn\"]]"
   ]
  },
  {
   "cell_type": "code",
   "execution_count": 26,
   "metadata": {},
   "outputs": [
    {
     "data": {
      "image/png": "[encoded data removed]",
      "text/plain": [
       "<Figure size 432x288 with 1 Axes>"
      ]
     },
     "metadata": {
      "needs_background": "light"
     },
     "output_type": "display_data"
    },
    {
     "data": {
      "image/png": "[encoded data removed]",
      "text/plain": [
       "<Figure size 432x288 with 1 Axes>"
      ]
     },
     "metadata": {
      "needs_background": "light"
     },
     "output_type": "display_data"
    },
    {
     "data": {
      "image/png": "[encoded data removed]",
      "text/plain": [
       "<Figure size 432x288 with 1 Axes>"
      ]
     },
     "metadata": {
      "needs_background": "light"
     },
     "output_type": "display_data"
    },
    {
     "data": {
      "image/png": "[encoded data removed]",
      "text/plain": [
       "<Figure size 432x288 with 1 Axes>"
      ]
     },
     "metadata": {
      "needs_background": "light"
     },
     "output_type": "display_data"
    },
    {
     "data": {
      "image/png": "[encoded data removed]",
      "text/plain": [
       "<Figure size 432x288 with 1 Axes>"
      ]
     },
     "metadata": {
      "needs_background": "light"
     },
     "output_type": "display_data"
    },
    {
     "data": {
      "image/png": "[encoded data removed]",
      "text/plain": [
       "<Figure size 432x288 with 1 Axes>"
      ]
     },
     "metadata": {
      "needs_background": "light"
     },
     "output_type": "display_data"
    },
    {
     "data": {
      "image/png": "[encoded data removed]",
      "text/plain": [
       "<Figure size 432x288 with 1 Axes>"
      ]
     },
     "metadata": {
      "needs_background": "light"
     },
     "output_type": "display_data"
    },
    {
     "data": {
      "image/png": "[encoded data removed]",
      "text/plain": [
       "<Figure size 432x288 with 1 Axes>"
      ]
     },
     "metadata": {
      "needs_background": "light"
     },
     "output_type": "display_data"
    },
    {
     "data": {
      "image/png": "[encoded data removed]",
      "text/plain": [
       "<Figure size 432x288 with 1 Axes>"
      ]
     },
     "metadata": {
      "needs_background": "light"
     },
     "output_type": "display_data"
    },
    {
     "data": {
      "image/png": "[encoded data removed]",
      "text/plain": [
       "<Figure size 432x288 with 1 Axes>"
      ]
     },
     "metadata": {
      "needs_background": "light"
     },
     "output_type": "display_data"
    },
    {
     "data": {
      "image/png": "[encoded data removed]",
      "text/plain": [
       "<Figure size 432x288 with 1 Axes>"
      ]
     },
     "metadata": {
      "needs_background": "light"
     },
     "output_type": "display_data"
    }
   ],
   "source": [
    "features = train_red.iloc[:,0:12].columns.tolist()\n",
    "target = \"enc_churn\"\n",
    "\n",
    "explore.plot_bars(features, target, train)"
   ]
  },
  {
   "cell_type": "code",
   "execution_count": 27,
   "metadata": {
    "scrolled": true
   },
   "outputs": [
    {
     "data": {
      "image/png": "[encoded data removed]",
      "text/plain": [
       "<Figure size 432x288 with 1 Axes>"
      ]
     },
     "metadata": {
      "needs_background": "light"
     },
     "output_type": "display_data"
    },
    {
     "data": {
      "image/png": "[encoded data removed]",
      "text/plain": [
       "<Figure size 432x288 with 1 Axes>"
      ]
     },
     "metadata": {
      "needs_background": "light"
     },
     "output_type": "display_data"
    },
    {
     "data": {
      "image/png": "[encoded data removed]",
      "text/plain": [
       "<Figure size 432x288 with 1 Axes>"
      ]
     },
     "metadata": {
      "needs_background": "light"
     },
     "output_type": "display_data"
    },
    {
     "data": {
      "image/png": "[encoded data removed]",
      "text/plain": [
       "<Figure size 432x288 with 1 Axes>"
      ]
     },
     "metadata": {
      "needs_background": "light"
     },
     "output_type": "display_data"
    },
    {
     "data": {
      "image/png": "[encoded data removed]",
      "text/plain": [
       "<Figure size 432x288 with 1 Axes>"
      ]
     },
     "metadata": {
      "needs_background": "light"
     },
     "output_type": "display_data"
    },
    {
     "data": {
      "image/png": "[encoded data removed]",
      "text/plain": [
       "<Figure size 432x288 with 1 Axes>"
      ]
     },
     "metadata": {
      "needs_background": "light"
     },
     "output_type": "display_data"
    },
    {
     "data": {
      "image/png": "[encoded data removed]",
      "text/plain": [
       "<Figure size 432x288 with 1 Axes>"
      ]
     },
     "metadata": {
      "needs_background": "light"
     },
     "output_type": "display_data"
    },
    {
     "data": {
      "image/png": "[encoded data removed]",
      "text/plain": [
       "<Figure size 432x288 with 1 Axes>"
      ]
     },
     "metadata": {
      "needs_background": "light"
     },
     "output_type": "display_data"
    },
    {
     "data": {
      "image/png": "[encoded data removed]",
      "text/plain": [
       "<Figure size 432x288 with 1 Axes>"
      ]
     },
     "metadata": {
      "needs_background": "light"
     },
     "output_type": "display_data"
    },
    {
     "data": {
      "image/png": "[encoded data removed]",
      "text/plain": [
       "<Figure size 432x288 with 1 Axes>"
      ]
     },
     "metadata": {
      "needs_background": "light"
     },
     "output_type": "display_data"
    },
    {
     "data": {
      "image/png": "[encoded data removed]",
      "text/plain": [
       "<Figure size 432x288 with 1 Axes>"
      ]
     },
     "metadata": {
      "needs_background": "light"
     },
     "output_type": "display_data"
    }
   ],
   "source": [
    "explore.plot_box(features,target,train)"
   ]
  },
  {
   "cell_type": "code",
   "execution_count": 132,
   "metadata": {},
   "outputs": [
    {
     "data": {
      "text/html": [
       "<div>\n",
       "<style scoped>\n",
       "    .dataframe tbody tr th:only-of-type {\n",
       "        vertical-align: middle;\n",
       "    }\n",
       "\n",
       "    .dataframe tbody tr th {\n",
       "        vertical-align: top;\n",
       "    }\n",
       "\n",
       "    .dataframe thead th {\n",
       "        text-align: right;\n",
       "    }\n",
       "</style>\n",
       "<table border=\"1\" class=\"dataframe\">\n",
       "  <thead>\n",
       "    <tr style=\"text-align: right;\">\n",
       "      <th></th>\n",
       "      <th>enc_churn</th>\n",
       "      <th>monthly_charges</th>\n",
       "      <th>tenure</th>\n",
       "    </tr>\n",
       "    <tr>\n",
       "      <th>senior_citizen</th>\n",
       "      <th></th>\n",
       "      <th></th>\n",
       "      <th></th>\n",
       "    </tr>\n",
       "  </thead>\n",
       "  <tbody>\n",
       "    <tr>\n",
       "      <th>0</th>\n",
       "      <td>0.234043</td>\n",
       "      <td>61.579219</td>\n",
       "      <td>32.156190</td>\n",
       "    </tr>\n",
       "    <tr>\n",
       "      <th>1</th>\n",
       "      <td>0.437659</td>\n",
       "      <td>79.965522</td>\n",
       "      <td>32.704835</td>\n",
       "    </tr>\n",
       "  </tbody>\n",
       "</table>\n",
       "</div>"
      ],
      "text/plain": [
       "                enc_churn  monthly_charges     tenure\n",
       "senior_citizen                                       \n",
       "0                0.234043        61.579219  32.156190\n",
       "1                0.437659        79.965522  32.704835"
      ]
     },
     "execution_count": 132,
     "metadata": {},
     "output_type": "execute_result"
    }
   ],
   "source": [
    "train_red.groupby([\"senior_citizen\"])[[\"enc_churn\",\"monthly_charges\",\"tenure\"]].mean()"
   ]
  },
  {
   "cell_type": "markdown",
   "metadata": {},
   "source": [
    "Senior citizens only make up 16% of our train data, but 44% in their group are churning. They also have higher monthly charges compared to non-seniors (about \\$20 more)\n",
    " - Maybe they have not upgraded and availed promos.\n",
    " - Not our target market but urge this population to upgrade to lessen monthly charges or create promos that lessen monthly charges by more or less \\$20 to stop the bleeding.\n",
    " \n",
    "*_Note: controlled for tech support, phone service, tech support, device protection, payment_type_id, paperless billing (55 vs 77%, not churn:churn), tenure. No rate/averages are compelling, hence my conclusion._"
   ]
  },
  {
   "cell_type": "code",
   "execution_count": 107,
   "metadata": {},
   "outputs": [
    {
     "data": {
      "text/html": [
       "<div>\n",
       "<style scoped>\n",
       "    .dataframe tbody tr th:only-of-type {\n",
       "        vertical-align: middle;\n",
       "    }\n",
       "\n",
       "    .dataframe tbody tr th {\n",
       "        vertical-align: top;\n",
       "    }\n",
       "\n",
       "    .dataframe thead th {\n",
       "        text-align: right;\n",
       "    }\n",
       "</style>\n",
       "<table border=\"1\" class=\"dataframe\">\n",
       "  <thead>\n",
       "    <tr style=\"text-align: right;\">\n",
       "      <th></th>\n",
       "      <th></th>\n",
       "      <th>enc_churn</th>\n",
       "      <th>monthly_charges</th>\n",
       "    </tr>\n",
       "    <tr>\n",
       "      <th>seg_household</th>\n",
       "      <th>prod_phone_service</th>\n",
       "      <th></th>\n",
       "      <th></th>\n",
       "    </tr>\n",
       "  </thead>\n",
       "  <tbody>\n",
       "    <tr>\n",
       "      <th rowspan=\"3\" valign=\"top\">0</th>\n",
       "      <th>0</th>\n",
       "      <td>0.317181</td>\n",
       "      <td>39.893612</td>\n",
       "    </tr>\n",
       "    <tr>\n",
       "      <th>1</th>\n",
       "      <td>0.316996</td>\n",
       "      <td>54.100237</td>\n",
       "    </tr>\n",
       "    <tr>\n",
       "      <th>2</th>\n",
       "      <td>0.393423</td>\n",
       "      <td>81.607247</td>\n",
       "    </tr>\n",
       "    <tr>\n",
       "      <th rowspan=\"3\" valign=\"top\">1</th>\n",
       "      <th>0</th>\n",
       "      <td>0.220588</td>\n",
       "      <td>43.593382</td>\n",
       "    </tr>\n",
       "    <tr>\n",
       "      <th>1</th>\n",
       "      <td>0.220149</td>\n",
       "      <td>58.718377</td>\n",
       "    </tr>\n",
       "    <tr>\n",
       "      <th>2</th>\n",
       "      <td>0.274964</td>\n",
       "      <td>85.698480</td>\n",
       "    </tr>\n",
       "    <tr>\n",
       "      <th rowspan=\"3\" valign=\"top\">2</th>\n",
       "      <th>0</th>\n",
       "      <td>0.096491</td>\n",
       "      <td>45.440789</td>\n",
       "    </tr>\n",
       "    <tr>\n",
       "      <th>1</th>\n",
       "      <td>0.137124</td>\n",
       "      <td>49.629933</td>\n",
       "    </tr>\n",
       "    <tr>\n",
       "      <th>2</th>\n",
       "      <td>0.159176</td>\n",
       "      <td>77.853933</td>\n",
       "    </tr>\n",
       "  </tbody>\n",
       "</table>\n",
       "</div>"
      ],
      "text/plain": [
       "                                  enc_churn  monthly_charges\n",
       "seg_household prod_phone_service                            \n",
       "0             0                    0.317181        39.893612\n",
       "              1                    0.316996        54.100237\n",
       "              2                    0.393423        81.607247\n",
       "1             0                    0.220588        43.593382\n",
       "              1                    0.220149        58.718377\n",
       "              2                    0.274964        85.698480\n",
       "2             0                    0.096491        45.440789\n",
       "              1                    0.137124        49.629933\n",
       "              2                    0.159176        77.853933"
      ]
     },
     "execution_count": 107,
     "metadata": {},
     "output_type": "execute_result"
    }
   ],
   "source": [
    "train_red.groupby([\"seg_household\",\"prod_phone_service\"])[[\"enc_churn\",\"monthly_charges\"]].mean()"
   ]
  },
  {
   "cell_type": "markdown",
   "metadata": {},
   "source": [
    "**Multiple-member household pay the least average monthly charges, and churn the least.**"
   ]
  },
  {
   "cell_type": "code",
   "execution_count": 108,
   "metadata": {},
   "outputs": [
    {
     "data": {
      "text/html": [
       "<div>\n",
       "<style scoped>\n",
       "    .dataframe tbody tr th:only-of-type {\n",
       "        vertical-align: middle;\n",
       "    }\n",
       "\n",
       "    .dataframe tbody tr th {\n",
       "        vertical-align: top;\n",
       "    }\n",
       "\n",
       "    .dataframe thead th {\n",
       "        text-align: right;\n",
       "    }\n",
       "</style>\n",
       "<table border=\"1\" class=\"dataframe\">\n",
       "  <thead>\n",
       "    <tr style=\"text-align: right;\">\n",
       "      <th></th>\n",
       "      <th></th>\n",
       "      <th>enc_churn</th>\n",
       "      <th>monthly_charges</th>\n",
       "    </tr>\n",
       "    <tr>\n",
       "      <th>seg_household</th>\n",
       "      <th>contract_type_id</th>\n",
       "      <th></th>\n",
       "      <th></th>\n",
       "    </tr>\n",
       "  </thead>\n",
       "  <tbody>\n",
       "    <tr>\n",
       "      <th rowspan=\"3\" valign=\"top\">0</th>\n",
       "      <th>1</th>\n",
       "      <td>0.466254</td>\n",
       "      <td>64.319907</td>\n",
       "    </tr>\n",
       "    <tr>\n",
       "      <th>2</th>\n",
       "      <td>0.088312</td>\n",
       "      <td>61.435195</td>\n",
       "    </tr>\n",
       "    <tr>\n",
       "      <th>3</th>\n",
       "      <td>0.028754</td>\n",
       "      <td>54.194888</td>\n",
       "    </tr>\n",
       "    <tr>\n",
       "      <th rowspan=\"3\" valign=\"top\">1</th>\n",
       "      <th>1</th>\n",
       "      <td>0.424699</td>\n",
       "      <td>71.079669</td>\n",
       "    </tr>\n",
       "    <tr>\n",
       "      <th>2</th>\n",
       "      <td>0.132308</td>\n",
       "      <td>71.928615</td>\n",
       "    </tr>\n",
       "    <tr>\n",
       "      <th>3</th>\n",
       "      <td>0.034759</td>\n",
       "      <td>69.640909</td>\n",
       "    </tr>\n",
       "    <tr>\n",
       "      <th rowspan=\"3\" valign=\"top\">2</th>\n",
       "      <th>1</th>\n",
       "      <td>0.319149</td>\n",
       "      <td>64.987589</td>\n",
       "    </tr>\n",
       "    <tr>\n",
       "      <th>2</th>\n",
       "      <td>0.099688</td>\n",
       "      <td>63.564330</td>\n",
       "    </tr>\n",
       "    <tr>\n",
       "      <th>3</th>\n",
       "      <td>0.021912</td>\n",
       "      <td>56.850697</td>\n",
       "    </tr>\n",
       "  </tbody>\n",
       "</table>\n",
       "</div>"
      ],
      "text/plain": [
       "                                enc_churn  monthly_charges\n",
       "seg_household contract_type_id                            \n",
       "0             1                  0.466254        64.319907\n",
       "              2                  0.088312        61.435195\n",
       "              3                  0.028754        54.194888\n",
       "1             1                  0.424699        71.079669\n",
       "              2                  0.132308        71.928615\n",
       "              3                  0.034759        69.640909\n",
       "2             1                  0.319149        64.987589\n",
       "              2                  0.099688        63.564330\n",
       "              3                  0.021912        56.850697"
      ]
     },
     "execution_count": 108,
     "metadata": {},
     "output_type": "execute_result"
    }
   ],
   "source": [
    "train_red.groupby([\"seg_household\",\"contract_type_id\"])[[\"enc_churn\",\"monthly_charges\"]].mean()"
   ]
  },
  {
   "cell_type": "markdown",
   "metadata": {},
   "source": [
    "Highest churn rate comes from these segments:  \n",
    "**Single-member and two-member households who have month-to-month subscription.**"
   ]
  },
  {
   "cell_type": "code",
   "execution_count": 120,
   "metadata": {},
   "outputs": [
    {
     "data": {
      "text/html": [
       "<div>\n",
       "<style scoped>\n",
       "    .dataframe tbody tr th:only-of-type {\n",
       "        vertical-align: middle;\n",
       "    }\n",
       "\n",
       "    .dataframe tbody tr th {\n",
       "        vertical-align: top;\n",
       "    }\n",
       "\n",
       "    .dataframe thead th {\n",
       "        text-align: right;\n",
       "    }\n",
       "</style>\n",
       "<table border=\"1\" class=\"dataframe\">\n",
       "  <thead>\n",
       "    <tr style=\"text-align: right;\">\n",
       "      <th></th>\n",
       "      <th></th>\n",
       "      <th>enc_churn</th>\n",
       "      <th>monthly_charges</th>\n",
       "    </tr>\n",
       "    <tr>\n",
       "      <th>contract_type_id</th>\n",
       "      <th>internet_service_type_id</th>\n",
       "      <th></th>\n",
       "      <th></th>\n",
       "    </tr>\n",
       "  </thead>\n",
       "  <tbody>\n",
       "    <tr>\n",
       "      <th rowspan=\"3\" valign=\"top\">1</th>\n",
       "      <th>1</th>\n",
       "      <td>0.322917</td>\n",
       "      <td>50.177546</td>\n",
       "    </tr>\n",
       "    <tr>\n",
       "      <th>2</th>\n",
       "      <td>0.557143</td>\n",
       "      <td>86.881701</td>\n",
       "    </tr>\n",
       "    <tr>\n",
       "      <th>3</th>\n",
       "      <td>0.195652</td>\n",
       "      <td>20.363587</td>\n",
       "    </tr>\n",
       "    <tr>\n",
       "      <th rowspan=\"3\" valign=\"top\">2</th>\n",
       "      <th>1</th>\n",
       "      <td>0.087629</td>\n",
       "      <td>61.397680</td>\n",
       "    </tr>\n",
       "    <tr>\n",
       "      <th>2</th>\n",
       "      <td>0.177378</td>\n",
       "      <td>98.608226</td>\n",
       "    </tr>\n",
       "    <tr>\n",
       "      <th>3</th>\n",
       "      <td>0.023622</td>\n",
       "      <td>20.679528</td>\n",
       "    </tr>\n",
       "    <tr>\n",
       "      <th rowspan=\"3\" valign=\"top\">3</th>\n",
       "      <th>1</th>\n",
       "      <td>0.019523</td>\n",
       "      <td>70.583189</td>\n",
       "    </tr>\n",
       "    <tr>\n",
       "      <th>2</th>\n",
       "      <td>0.067616</td>\n",
       "      <td>104.190214</td>\n",
       "    </tr>\n",
       "    <tr>\n",
       "      <th>3</th>\n",
       "      <td>0.011186</td>\n",
       "      <td>21.770582</td>\n",
       "    </tr>\n",
       "  </tbody>\n",
       "</table>\n",
       "</div>"
      ],
      "text/plain": [
       "                                           enc_churn  monthly_charges\n",
       "contract_type_id internet_service_type_id                            \n",
       "1                1                          0.322917        50.177546\n",
       "                 2                          0.557143        86.881701\n",
       "                 3                          0.195652        20.363587\n",
       "2                1                          0.087629        61.397680\n",
       "                 2                          0.177378        98.608226\n",
       "                 3                          0.023622        20.679528\n",
       "3                1                          0.019523        70.583189\n",
       "                 2                          0.067616       104.190214\n",
       "                 3                          0.011186        21.770582"
      ]
     },
     "execution_count": 120,
     "metadata": {},
     "output_type": "execute_result"
    }
   ],
   "source": [
    "train_red.groupby([\"contract_type_id\",\"internet_service_type_id\"])[[\"enc_churn\",\"monthly_charges\"]].mean()"
   ]
  },
  {
   "cell_type": "markdown",
   "metadata": {},
   "source": [
    "Highest churn rate are coming from month-to-month contracts that are subscribed to fiber optics. Fiber optics are relatively more expensive internet service ranging from an average of $ 86-104 in total monthly charges.  \n",
    "\n",
    "Then again **56% of month-to-month/fiber optics subscribers are churning** compared to 18% and 7% of fiber optic subscribers who are on an annual and bi-annual contracts, respectively.\n",
    "> **Takeaway:**\n",
    " - We're not offering bad fiber optics service. We just need to prolong the contracts of this population."
   ]
  },
  {
   "cell_type": "code",
   "execution_count": 121,
   "metadata": {},
   "outputs": [
    {
     "data": {
      "text/html": [
       "<div>\n",
       "<style scoped>\n",
       "    .dataframe tbody tr th:only-of-type {\n",
       "        vertical-align: middle;\n",
       "    }\n",
       "\n",
       "    .dataframe tbody tr th {\n",
       "        vertical-align: top;\n",
       "    }\n",
       "\n",
       "    .dataframe thead th {\n",
       "        text-align: right;\n",
       "    }\n",
       "</style>\n",
       "<table border=\"1\" class=\"dataframe\">\n",
       "  <thead>\n",
       "    <tr style=\"text-align: right;\">\n",
       "      <th></th>\n",
       "      <th></th>\n",
       "      <th>enc_churn</th>\n",
       "      <th>monthly_charges</th>\n",
       "    </tr>\n",
       "    <tr>\n",
       "      <th>seg_household</th>\n",
       "      <th>payment_type_id</th>\n",
       "      <th></th>\n",
       "      <th></th>\n",
       "    </tr>\n",
       "  </thead>\n",
       "  <tbody>\n",
       "    <tr>\n",
       "      <th rowspan=\"4\" valign=\"top\">0</th>\n",
       "      <th>1</th>\n",
       "      <td>0.524130</td>\n",
       "      <td>73.549270</td>\n",
       "    </tr>\n",
       "    <tr>\n",
       "      <th>2</th>\n",
       "      <td>0.252912</td>\n",
       "      <td>43.650166</td>\n",
       "    </tr>\n",
       "    <tr>\n",
       "      <th>3</th>\n",
       "      <td>0.203390</td>\n",
       "      <td>66.181477</td>\n",
       "    </tr>\n",
       "    <tr>\n",
       "      <th>4</th>\n",
       "      <td>0.227941</td>\n",
       "      <td>62.237990</td>\n",
       "    </tr>\n",
       "    <tr>\n",
       "      <th rowspan=\"4\" valign=\"top\">1</th>\n",
       "      <th>1</th>\n",
       "      <td>0.425056</td>\n",
       "      <td>81.191163</td>\n",
       "    </tr>\n",
       "    <tr>\n",
       "      <th>2</th>\n",
       "      <td>0.178571</td>\n",
       "      <td>49.526563</td>\n",
       "    </tr>\n",
       "    <tr>\n",
       "      <th>3</th>\n",
       "      <td>0.181303</td>\n",
       "      <td>71.339235</td>\n",
       "    </tr>\n",
       "    <tr>\n",
       "      <th>4</th>\n",
       "      <td>0.129794</td>\n",
       "      <td>70.944690</td>\n",
       "    </tr>\n",
       "    <tr>\n",
       "      <th rowspan=\"4\" valign=\"top\">2</th>\n",
       "      <th>1</th>\n",
       "      <td>0.279152</td>\n",
       "      <td>75.515194</td>\n",
       "    </tr>\n",
       "    <tr>\n",
       "      <th>2</th>\n",
       "      <td>0.118812</td>\n",
       "      <td>41.424917</td>\n",
       "    </tr>\n",
       "    <tr>\n",
       "      <th>3</th>\n",
       "      <td>0.100295</td>\n",
       "      <td>64.102360</td>\n",
       "    </tr>\n",
       "    <tr>\n",
       "      <th>4</th>\n",
       "      <td>0.090343</td>\n",
       "      <td>64.734268</td>\n",
       "    </tr>\n",
       "  </tbody>\n",
       "</table>\n",
       "</div>"
      ],
      "text/plain": [
       "                               enc_churn  monthly_charges\n",
       "seg_household payment_type_id                            \n",
       "0             1                 0.524130        73.549270\n",
       "              2                 0.252912        43.650166\n",
       "              3                 0.203390        66.181477\n",
       "              4                 0.227941        62.237990\n",
       "1             1                 0.425056        81.191163\n",
       "              2                 0.178571        49.526563\n",
       "              3                 0.181303        71.339235\n",
       "              4                 0.129794        70.944690\n",
       "2             1                 0.279152        75.515194\n",
       "              2                 0.118812        41.424917\n",
       "              3                 0.100295        64.102360\n",
       "              4                 0.090343        64.734268"
      ]
     },
     "execution_count": 121,
     "metadata": {},
     "output_type": "execute_result"
    }
   ],
   "source": [
    "train_red.groupby([\"seg_household\",\"payment_type_id\"])[[\"enc_churn\",\"monthly_charges\"]].mean()"
   ]
  },
  {
   "cell_type": "markdown",
   "metadata": {},
   "source": [
    "<div class=\"alert alert-block alert-info\">\n",
    "<b>Question:</b> Are there features that indicate a higher propensity to churn? like type of internet service, type of phone service, online security and backup, senior citizens, paying more than x% of customers with the same services, etc.?\n",
    "</div>"
   ]
  },
  {
   "cell_type": "markdown",
   "metadata": {},
   "source": [
    "**Answer:**\n",
    "\n",
    "Yes. Below are the following features and descriptions:\n",
    "1. seg_senior - Senior Citizens\n",
    "2. seg_household - One-member household\n",
    "3. prod_online_bs - Has atleast an online backup or security subscription\n",
    "4. prod_tech - Has a tech support subscription\n",
    "5. prod_device - Has a device protection\n",
    "6. prod_paperless - Has subscribed to paperless billing\n",
    "7. contract_type_id - Month-to-month contracts\n",
    "8. internet_service_type_id - Fiber Optic\n",
    "9. payment_type_id - Electronic checks"
   ]
  },
  {
   "cell_type": "markdown",
   "metadata": {},
   "source": [
    "<div class=\"alert alert-block alert-info\">\n",
    "<b>Question:</b> Is there a price threshold for specific services where the likelihood of churn increases when the price for those services goes past that point? If so, what is that point for what service(s)?\n",
    "</div>"
   ]
  },
  {
   "cell_type": "markdown",
   "metadata": {},
   "source": [
    "**Answer:**  \n",
    "At more than \\$50 - Subscribers with single and multiple phone lines are more likely to churn"
   ]
  },
  {
   "cell_type": "code",
   "execution_count": 28,
   "metadata": {},
   "outputs": [],
   "source": [
    "train[\"monthly_bins\"] = pd.cut(train.monthly_charges,3)\n",
    "train_red[\"monthly_bins\"] = train.monthly_bins"
   ]
  },
  {
   "cell_type": "code",
   "execution_count": 298,
   "metadata": {},
   "outputs": [
    {
     "data": {
      "text/plain": [
       "<matplotlib.axes._subplots.AxesSubplot at 0x1a1ed9d908>"
      ]
     },
     "execution_count": 298,
     "metadata": {},
     "output_type": "execute_result"
    },
    {
     "data": {
      "image/png": "[encoded data removed]",
      "text/plain": [
       "<Figure size 432x288 with 1 Axes>"
      ]
     },
     "metadata": {
      "needs_background": "light"
     },
     "output_type": "display_data"
    }
   ],
   "source": [
    "sns.barplot(x=\"monthly_bins\", y=\"enc_churn\", data=train_red, hue=\"prod_phone_service\")"
   ]
  },
  {
   "cell_type": "code",
   "execution_count": 30,
   "metadata": {},
   "outputs": [
    {
     "data": {
      "text/plain": [
       "<matplotlib.collections.LineCollection at 0x1a1ca01470>"
      ]
     },
     "execution_count": 30,
     "metadata": {},
     "output_type": "execute_result"
    },
    {
     "data": {
      "image/png": "[encoded data removed]",
      "text/plain": [
       "<Figure size 432x288 with 1 Axes>"
      ]
     },
     "metadata": {
      "needs_background": "light"
     },
     "output_type": "display_data"
    }
   ],
   "source": [
    "sns.barplot(x=\"prod_phone_service\", y=\"monthly_charges\",data=train_red,hue=\"churn\")\n",
    "plt.legend()\n",
    "plt.hlines(y=train_red.monthly_charges.mean(), xmin=-1, xmax=3, ls=\":\")"
   ]
  },
  {
   "cell_type": "code",
   "execution_count": 31,
   "metadata": {},
   "outputs": [
    {
     "data": {
      "text/plain": [
       "<matplotlib.collections.LineCollection at 0x1a1c91b048>"
      ]
     },
     "execution_count": 31,
     "metadata": {},
     "output_type": "execute_result"
    },
    {
     "data": {
      "image/png": "[encoded data removed]",
      "text/plain": [
       "<Figure size 432x288 with 1 Axes>"
      ]
     },
     "metadata": {
      "needs_background": "light"
     },
     "output_type": "display_data"
    }
   ],
   "source": [
    "sns.barplot(x=\"seg_household\", y=\"monthly_charges\",data=train_red,hue=\"churn\")\n",
    "plt.legend()\n",
    "plt.hlines(y=train_red.monthly_charges.mean(), xmin=-1, xmax=3, ls=\":\")"
   ]
  },
  {
   "cell_type": "markdown",
   "metadata": {},
   "source": [
    "<div class=\"alert alert-block alert-info\">\n",
    "<b>Question:</b> If we looked at churn rate for month-to-month customers after the 12th month and that of 1-year contract customers after the 12th month, are those rates comparable?\n",
    "</div>"
   ]
  },
  {
   "cell_type": "markdown",
   "metadata": {},
   "source": [
    "**Answer:**  \n",
    "After the 12-month period lapsed, 38.3% churned. Out of those, 37% are on a month-to-month contract while only 1% are on a one-year contract. The rates hugely vary."
   ]
  },
  {
   "cell_type": "code",
   "execution_count": 32,
   "metadata": {},
   "outputs": [
    {
     "data": {
      "text/html": [
       "<div>\n",
       "<style scoped>\n",
       "    .dataframe tbody tr th:only-of-type {\n",
       "        vertical-align: middle;\n",
       "    }\n",
       "\n",
       "    .dataframe tbody tr th {\n",
       "        vertical-align: top;\n",
       "    }\n",
       "\n",
       "    .dataframe thead th {\n",
       "        text-align: right;\n",
       "    }\n",
       "</style>\n",
       "<table border=\"1\" class=\"dataframe\">\n",
       "  <thead>\n",
       "    <tr style=\"text-align: right;\">\n",
       "      <th>contract_type_id</th>\n",
       "      <th>1</th>\n",
       "      <th>2</th>\n",
       "      <th>3</th>\n",
       "    </tr>\n",
       "    <tr>\n",
       "      <th>churn</th>\n",
       "      <th></th>\n",
       "      <th></th>\n",
       "      <th></th>\n",
       "    </tr>\n",
       "  </thead>\n",
       "  <tbody>\n",
       "    <tr>\n",
       "      <th>No</th>\n",
       "      <td>0.423077</td>\n",
       "      <td>0.102564</td>\n",
       "      <td>0.089744</td>\n",
       "    </tr>\n",
       "    <tr>\n",
       "      <th>Yes</th>\n",
       "      <td>0.371795</td>\n",
       "      <td>0.012821</td>\n",
       "      <td>0.000000</td>\n",
       "    </tr>\n",
       "  </tbody>\n",
       "</table>\n",
       "</div>"
      ],
      "text/plain": [
       "contract_type_id         1         2         3\n",
       "churn                                         \n",
       "No                0.423077  0.102564  0.089744\n",
       "Yes               0.371795  0.012821  0.000000"
      ]
     },
     "execution_count": 32,
     "metadata": {},
     "output_type": "execute_result"
    }
   ],
   "source": [
    "twelve_months = train_red[train_red.tenure == 13]\n",
    "pd.crosstab(twelve_months.churn, twelve_months.contract_type_id,normalize=True)"
   ]
  },
  {
   "cell_type": "code",
   "execution_count": 33,
   "metadata": {},
   "outputs": [
    {
     "data": {
      "text/plain": [
       "<matplotlib.axes._subplots.AxesSubplot at 0x1a1c7beba8>"
      ]
     },
     "execution_count": 33,
     "metadata": {},
     "output_type": "execute_result"
    },
    {
     "data": {
      "image/png": "[encoded data removed]",
      "text/plain": [
       "<Figure size 432x288 with 1 Axes>"
      ]
     },
     "metadata": {
      "needs_background": "light"
     },
     "output_type": "display_data"
    }
   ],
   "source": [
    "sns.barplot(y=\"enc_churn\",x=\"contract_type_id\", data=twelve_months, hue=\"contract_type_id\")"
   ]
  },
  {
   "cell_type": "markdown",
   "metadata": {},
   "source": [
    "#### TAKEAWAYS:\n",
    "\n",
    "**Important Features to consider in my model:**\n",
    "1. seg_senior\n",
    "2. seg_household \n",
    "3. prod_online_bs \n",
    "4. prod_tech\n",
    "5. prod_device\n",
    "6. prod_paperless\n",
    "7. contract_type_id\n",
    "8. internet_service_type_id\n",
    "9. payment_type_id\n",
    "10. tenure\n",
    "11. monthly_charges"
   ]
  },
  {
   "cell_type": "markdown",
   "metadata": {},
   "source": [
    "## V. Create and Compare Different Models"
   ]
  },
  {
   "cell_type": "code",
   "execution_count": 34,
   "metadata": {},
   "outputs": [],
   "source": [
    "X_trainm = train_red.drop(columns=[\"prod_phone_service\",\"monthly_bins\",\"churn\",\"total_charges\",\"enc_churn\"])\n",
    "y_trainm = train_red[[\"enc_churn\"]]"
   ]
  },
  {
   "cell_type": "code",
   "execution_count": 46,
   "metadata": {},
   "outputs": [],
   "source": [
    "robust_scaler = RobustScaler(quantile_range=(25.0,75.0), copy=True, with_centering=True, with_scaling=True).fit(X_trainm)\n",
    "scaled_train = robust_scaler.transform(X_trainm)\n",
    "scaled_train = pd.DataFrame(scaled_train, columns=X_trainm.columns).set_index([X_trainm.index])"
   ]
  },
  {
   "cell_type": "code",
   "execution_count": 201,
   "metadata": {},
   "outputs": [],
   "source": [
    "dtm = DecisionTreeClassifier(criterion=\"entropy\", max_depth=20, random_state=123)\n",
    "dtm = dtm.fit(X_trainm,y_trainm)\n",
    "yhat_trainm= dtm.predict(X_trainm)\n",
    "yhat_trainm_proba = dtm.predict_proba(X_trainm)"
   ]
  },
  {
   "cell_type": "code",
   "execution_count": 243,
   "metadata": {},
   "outputs": [],
   "source": [
    "yhat_trainm, yhat_trainm_proba, dtm = model.model_by_cart(X_trainm,y_trainm,\"gini\",4)"
   ]
  },
  {
   "cell_type": "code",
   "execution_count": 244,
   "metadata": {},
   "outputs": [
    {
     "name": "stdout",
     "output_type": "stream",
     "text": [
      "\n",
      "Decision Tree model accuracy ratio: 0.799\n",
      "\n"
     ]
    }
   ],
   "source": [
    "trainm_accuracy = dtm.score(X_trainm, y_trainm)\n",
    "print(f\"\"\"\n",
    "Decision Tree model accuracy ratio: {round(trainm_accuracy,3)}\n",
    "\"\"\")"
   ]
  },
  {
   "cell_type": "code",
   "execution_count": 254,
   "metadata": {},
   "outputs": [
    {
     "name": "stdout",
     "output_type": "stream",
     "text": [
      "[[3260  350]\n",
      " [ 641  671]]\n"
     ]
    },
    {
     "data": {
      "text/plain": [
       "4922"
      ]
     },
     "execution_count": 254,
     "metadata": {},
     "output_type": "execute_result"
    }
   ],
   "source": [
    "dtm_traincm = confusion_matrix(y_trainm,yhat_trainm)\n",
    "print(dtm_traincm)\n",
    "len(y_trainm)"
   ]
  },
  {
   "cell_type": "code",
   "execution_count": 245,
   "metadata": {},
   "outputs": [
    {
     "name": "stdout",
     "output_type": "stream",
     "text": [
      "Classification Report for Decision Tree Model\n",
      "              precision    recall  f1-score   support\n",
      "\n",
      "           0       0.84      0.90      0.87      3610\n",
      "           1       0.66      0.51      0.58      1312\n",
      "\n",
      "    accuracy                           0.80      4922\n",
      "   macro avg       0.75      0.71      0.72      4922\n",
      "weighted avg       0.79      0.80      0.79      4922\n",
      "\n"
     ]
    }
   ],
   "source": [
    "print(\"Classification Report for Decision Tree Model\")\n",
    "print(classification_report(y_trainm, yhat_trainm))"
   ]
  },
  {
   "cell_type": "markdown",
   "metadata": {},
   "source": [
    "![model_decision_tree](model_dtm.jpg)"
   ]
  },
  {
   "cell_type": "code",
   "execution_count": 262,
   "metadata": {},
   "outputs": [],
   "source": [
    "X_trainm[\"predictions\"] = pd.DataFrame(yhat_trainm)\n",
    "X_trainm[[\"stay_proba\",\"churn_proba\"]] = pd.DataFrame(yhat_trainm_proba)"
   ]
  },
  {
   "cell_type": "markdown",
   "metadata": {},
   "source": [
    "**K Nearest Neighbor Model**"
   ]
  },
  {
   "cell_type": "code",
   "execution_count": 140,
   "metadata": {},
   "outputs": [
    {
     "data": {
      "text/plain": [
       "KNeighborsClassifier(algorithm='auto', leaf_size=30, metric='cosine',\n",
       "                     metric_params=None, n_jobs=None, n_neighbors=5, p=2,\n",
       "                     weights='uniform')"
      ]
     },
     "execution_count": 140,
     "metadata": {},
     "output_type": "execute_result"
    }
   ],
   "source": [
    "knn = KNeighborsClassifier(n_neighbors=5, weights='uniform',metric=\"cosine\")\n",
    "knn.fit(X_trainm, y_trainm)"
   ]
  },
  {
   "cell_type": "code",
   "execution_count": 92,
   "metadata": {},
   "outputs": [],
   "source": [
    "yhat_train_knn = knn.predict(X_trainm)"
   ]
  },
  {
   "cell_type": "code",
   "execution_count": 150,
   "metadata": {},
   "outputs": [
    {
     "name": "stdout",
     "output_type": "stream",
     "text": [
      "\n",
      "KNN model accuracy ratio: 0.837\n",
      "\n"
     ]
    }
   ],
   "source": [
    "knn_acc = knn.score(X_trainm, y_trainm)\n",
    "print(f\"\"\"\n",
    "KNN model accuracy ratio: {round(knn_acc,3)}\n",
    "\"\"\")"
   ]
  },
  {
   "cell_type": "code",
   "execution_count": 141,
   "metadata": {},
   "outputs": [
    {
     "name": "stdout",
     "output_type": "stream",
     "text": [
      "Classification Report for KNN Model\n",
      "              precision    recall  f1-score   support\n",
      "\n",
      "           0       0.87      0.91      0.89      3610\n",
      "           1       0.72      0.63      0.67      1312\n",
      "\n",
      "    accuracy                           0.84      4922\n",
      "   macro avg       0.80      0.77      0.78      4922\n",
      "weighted avg       0.83      0.84      0.83      4922\n",
      "\n"
     ]
    }
   ],
   "source": [
    "print(\"Classification Report for KNN Model\")\n",
    "print(classification_report(y_train, yhat_train_knn))"
   ]
  },
  {
   "cell_type": "markdown",
   "metadata": {},
   "source": [
    "**Log Regression**"
   ]
  },
  {
   "cell_type": "code",
   "execution_count": 136,
   "metadata": {},
   "outputs": [],
   "source": [
    "logit = LogisticRegression(C=1, class_weight={1:2}, random_state = 123, solver='saga')\n",
    "logit.fit(scaled_train, y_trainm)\n",
    "yhat_train_log = logit.predict(scaled_train)"
   ]
  },
  {
   "cell_type": "code",
   "execution_count": 135,
   "metadata": {},
   "outputs": [
    {
     "name": "stdout",
     "output_type": "stream",
     "text": [
      "              precision    recall  f1-score   support\n",
      "\n",
      "           0       0.89      0.78      0.83      3610\n",
      "           1       0.55      0.73      0.63      1312\n",
      "\n",
      "    accuracy                           0.77      4922\n",
      "   macro avg       0.72      0.76      0.73      4922\n",
      "weighted avg       0.80      0.77      0.78      4922\n",
      "\n"
     ]
    }
   ],
   "source": [
    "logit_report = classification_report(y_train, yhat_train_log)\n",
    "print(logit_report)"
   ]
  },
  {
   "cell_type": "markdown",
   "metadata": {},
   "source": [
    "## VI. Predict on Test Model using Ω Model"
   ]
  },
  {
   "cell_type": "markdown",
   "metadata": {},
   "source": [
    "Accuracy of Decision Tree and KNN model both registered at 84%.  \n",
    "\n",
    "I choose Decision Tree to be the Ω Model because apart from a higher accuracy, it generally has higher precision and recall."
   ]
  },
  {
   "cell_type": "markdown",
   "metadata": {},
   "source": [
    "**Encode test data to mimic train.**"
   ]
  },
  {
   "cell_type": "code",
   "execution_count": 153,
   "metadata": {},
   "outputs": [],
   "source": [
    "test[\"enc_churn\"] = test.churn.apply(prep.yes_no_to_boolean)\n",
    "\n",
    "test[\"seg_gender\"] = prep.order_encode(test[[\"gender\"]],[\"Male\",\"Female\"])\n",
    "test[\"seg_household\"] = prep.order_encode(test[[\"dependents\"]],[\"No\",\"Yes\"]) + prep.order_encode(test[[\"partner\"]],[\"No\",\"Yes\"])\n",
    "\n",
    "test[\"prod_phone_service\"] = prep.order_encode(test[[\"multiple_lines\"]],[\"No phone service\",\"No\",\"Yes\"])\n",
    "\n",
    "test[\"prod_online_bs\"] = (prep.order_encode(test[[\"online_security\"]],[\"No internet service\",\"No\",\"Yes\"])) - (prep.order_encode(test[[\"online_backup\"]],[\"Yes\",\"No\",\"No internet service\"]))\n",
    "test.prod_online_bs = test.prod_online_bs.replace(-2,0)\n",
    "\n",
    "test[\"prod_stream\"] = (prep.order_encode(test[[\"streaming_tv\"]],[\"No internet service\",\"No\",\"Yes\"])) - (prep.order_encode(test[[\"streaming_movies\"]],[\"Yes\",\"No\",\"No internet service\"]))\n",
    "test.prod_stream = test.prod_stream.replace(-2,0)\n",
    "\n",
    "test[\"prod_tech\"] = (prep.order_encode(test[[\"tech_support\"]],[\"No internet service\",\"No\",\"Yes\"]))\n",
    "\n",
    "test[\"prod_device\"] = (prep.order_encode(test[[\"device_protection\"]],[\"No internet service\",\"No\",\"Yes\"]))\n",
    "\n",
    "test[\"prod_paperless\"] = (prep.order_encode(test[[\"paperless_billing\"]],[\"No\",\"Yes\"]))"
   ]
  },
  {
   "cell_type": "code",
   "execution_count": 173,
   "metadata": {},
   "outputs": [
    {
     "data": {
      "text/html": [
       "<div>\n",
       "<style scoped>\n",
       "    .dataframe tbody tr th:only-of-type {\n",
       "        vertical-align: middle;\n",
       "    }\n",
       "\n",
       "    .dataframe tbody tr th {\n",
       "        vertical-align: top;\n",
       "    }\n",
       "\n",
       "    .dataframe thead th {\n",
       "        text-align: right;\n",
       "    }\n",
       "</style>\n",
       "<table border=\"1\" class=\"dataframe\">\n",
       "  <thead>\n",
       "    <tr style=\"text-align: right;\">\n",
       "      <th></th>\n",
       "      <th>customer_id</th>\n",
       "      <th>gender</th>\n",
       "      <th>senior_citizen</th>\n",
       "      <th>partner</th>\n",
       "      <th>dependents</th>\n",
       "      <th>tenure</th>\n",
       "      <th>phone_service</th>\n",
       "      <th>multiple_lines</th>\n",
       "      <th>internet_service_type_id</th>\n",
       "      <th>online_security</th>\n",
       "      <th>...</th>\n",
       "      <th>churn</th>\n",
       "      <th>enc_churn</th>\n",
       "      <th>seg_gender</th>\n",
       "      <th>seg_household</th>\n",
       "      <th>prod_phone_service</th>\n",
       "      <th>prod_online_bs</th>\n",
       "      <th>prod_stream</th>\n",
       "      <th>prod_tech</th>\n",
       "      <th>prod_device</th>\n",
       "      <th>prod_paperless</th>\n",
       "    </tr>\n",
       "  </thead>\n",
       "  <tbody>\n",
       "    <tr>\n",
       "      <th>6830</th>\n",
       "      <td>9701-CDXHR</td>\n",
       "      <td>Female</td>\n",
       "      <td>0</td>\n",
       "      <td>Yes</td>\n",
       "      <td>No</td>\n",
       "      <td>51</td>\n",
       "      <td>Yes</td>\n",
       "      <td>No</td>\n",
       "      <td>2</td>\n",
       "      <td>No</td>\n",
       "      <td>...</td>\n",
       "      <td>No</td>\n",
       "      <td>0</td>\n",
       "      <td>1</td>\n",
       "      <td>1</td>\n",
       "      <td>1</td>\n",
       "      <td>0</td>\n",
       "      <td>0</td>\n",
       "      <td>1</td>\n",
       "      <td>1</td>\n",
       "      <td>0</td>\n",
       "    </tr>\n",
       "    <tr>\n",
       "      <th>364</th>\n",
       "      <td>0533-UCAAU</td>\n",
       "      <td>Male</td>\n",
       "      <td>1</td>\n",
       "      <td>Yes</td>\n",
       "      <td>No</td>\n",
       "      <td>57</td>\n",
       "      <td>Yes</td>\n",
       "      <td>Yes</td>\n",
       "      <td>1</td>\n",
       "      <td>No</td>\n",
       "      <td>...</td>\n",
       "      <td>No</td>\n",
       "      <td>0</td>\n",
       "      <td>0</td>\n",
       "      <td>1</td>\n",
       "      <td>2</td>\n",
       "      <td>1</td>\n",
       "      <td>1</td>\n",
       "      <td>1</td>\n",
       "      <td>2</td>\n",
       "      <td>1</td>\n",
       "    </tr>\n",
       "    <tr>\n",
       "      <th>2066</th>\n",
       "      <td>2972-YDYUW</td>\n",
       "      <td>Female</td>\n",
       "      <td>0</td>\n",
       "      <td>No</td>\n",
       "      <td>No</td>\n",
       "      <td>57</td>\n",
       "      <td>Yes</td>\n",
       "      <td>Yes</td>\n",
       "      <td>2</td>\n",
       "      <td>No</td>\n",
       "      <td>...</td>\n",
       "      <td>No</td>\n",
       "      <td>0</td>\n",
       "      <td>1</td>\n",
       "      <td>0</td>\n",
       "      <td>2</td>\n",
       "      <td>1</td>\n",
       "      <td>1</td>\n",
       "      <td>2</td>\n",
       "      <td>1</td>\n",
       "      <td>0</td>\n",
       "    </tr>\n",
       "    <tr>\n",
       "      <th>6964</th>\n",
       "      <td>9881-VCZEP</td>\n",
       "      <td>Female</td>\n",
       "      <td>0</td>\n",
       "      <td>Yes</td>\n",
       "      <td>No</td>\n",
       "      <td>25</td>\n",
       "      <td>Yes</td>\n",
       "      <td>Yes</td>\n",
       "      <td>1</td>\n",
       "      <td>No</td>\n",
       "      <td>...</td>\n",
       "      <td>No</td>\n",
       "      <td>0</td>\n",
       "      <td>1</td>\n",
       "      <td>1</td>\n",
       "      <td>2</td>\n",
       "      <td>1</td>\n",
       "      <td>0</td>\n",
       "      <td>1</td>\n",
       "      <td>1</td>\n",
       "      <td>0</td>\n",
       "    </tr>\n",
       "    <tr>\n",
       "      <th>4870</th>\n",
       "      <td>6861-OKBCE</td>\n",
       "      <td>Female</td>\n",
       "      <td>0</td>\n",
       "      <td>No</td>\n",
       "      <td>Yes</td>\n",
       "      <td>11</td>\n",
       "      <td>Yes</td>\n",
       "      <td>No</td>\n",
       "      <td>3</td>\n",
       "      <td>No internet service</td>\n",
       "      <td>...</td>\n",
       "      <td>Yes</td>\n",
       "      <td>1</td>\n",
       "      <td>1</td>\n",
       "      <td>1</td>\n",
       "      <td>1</td>\n",
       "      <td>0</td>\n",
       "      <td>0</td>\n",
       "      <td>0</td>\n",
       "      <td>0</td>\n",
       "      <td>0</td>\n",
       "    </tr>\n",
       "  </tbody>\n",
       "</table>\n",
       "<p>5 rows × 30 columns</p>\n",
       "</div>"
      ],
      "text/plain": [
       "     customer_id  gender  senior_citizen partner dependents  tenure  \\\n",
       "6830  9701-CDXHR  Female               0     Yes         No      51   \n",
       "364   0533-UCAAU    Male               1     Yes         No      57   \n",
       "2066  2972-YDYUW  Female               0      No         No      57   \n",
       "6964  9881-VCZEP  Female               0     Yes         No      25   \n",
       "4870  6861-OKBCE  Female               0      No        Yes      11   \n",
       "\n",
       "     phone_service multiple_lines  internet_service_type_id  \\\n",
       "6830           Yes             No                         2   \n",
       "364            Yes            Yes                         1   \n",
       "2066           Yes            Yes                         2   \n",
       "6964           Yes            Yes                         1   \n",
       "4870           Yes             No                         3   \n",
       "\n",
       "          online_security  ... churn enc_churn seg_gender seg_household  \\\n",
       "6830                   No  ...    No         0          1             1   \n",
       "364                    No  ...    No         0          0             1   \n",
       "2066                   No  ...    No         0          1             0   \n",
       "6964                   No  ...    No         0          1             1   \n",
       "4870  No internet service  ...   Yes         1          1             1   \n",
       "\n",
       "     prod_phone_service  prod_online_bs prod_stream  prod_tech  prod_device  \\\n",
       "6830                  1               0           0          1            1   \n",
       "364                   2               1           1          1            2   \n",
       "2066                  2               1           1          2            1   \n",
       "6964                  2               1           0          1            1   \n",
       "4870                  1               0           0          0            0   \n",
       "\n",
       "      prod_paperless  \n",
       "6830               0  \n",
       "364                1  \n",
       "2066               0  \n",
       "6964               0  \n",
       "4870               0  \n",
       "\n",
       "[5 rows x 30 columns]"
      ]
     },
     "execution_count": 173,
     "metadata": {},
     "output_type": "execute_result"
    }
   ],
   "source": [
    "test.head()"
   ]
  },
  {
   "cell_type": "code",
   "execution_count": 177,
   "metadata": {},
   "outputs": [],
   "source": [
    "X_test = test[[\"prod_online_bs\", \"prod_stream\",\"prod_tech\",\"prod_device\",\"prod_paperless\",\"contract_type_id\",\"internet_service_type_id\",\"payment_type_id\",\"senior_citizen\",\"seg_household\",\"monthly_charges\",\"tenure\"]]\n",
    "y_test = test[[\"enc_churn\"]]"
   ]
  },
  {
   "cell_type": "code",
   "execution_count": 237,
   "metadata": {},
   "outputs": [],
   "source": [
    "yhat_testm= dtm.predict(X_test)\n",
    "yhat_testm_proba = dtm.predict_proba(X_test)"
   ]
  },
  {
   "cell_type": "code",
   "execution_count": 238,
   "metadata": {},
   "outputs": [
    {
     "name": "stdout",
     "output_type": "stream",
     "text": [
      "\n",
      "Decision Tree model accuracy ratio: 0.788\n",
      "\n"
     ]
    }
   ],
   "source": [
    "testm_accuracy = dtm.score(X_test, y_test)\n",
    "print(f\"\"\"\n",
    "Decision Tree model accuracy ratio: {round(testm_accuracy,3)}\n",
    "\"\"\")"
   ]
  },
  {
   "cell_type": "code",
   "execution_count": 253,
   "metadata": {},
   "outputs": [
    {
     "name": "stdout",
     "output_type": "stream",
     "text": [
      "[[1399  154]\n",
      " [ 294  263]]\n",
      "2110\n"
     ]
    }
   ],
   "source": [
    "dtm_testcm = confusion_matrix(y_test,yhat_testm)\n",
    "print(dtm_testcm)\n",
    "print(len(y_test))"
   ]
  },
  {
   "cell_type": "code",
   "execution_count": 239,
   "metadata": {},
   "outputs": [
    {
     "name": "stdout",
     "output_type": "stream",
     "text": [
      "Classification Report for Decision Tree Model\n",
      "              precision    recall  f1-score   support\n",
      "\n",
      "           0       0.83      0.90      0.86      1553\n",
      "           1       0.63      0.47      0.54       557\n",
      "\n",
      "    accuracy                           0.79      2110\n",
      "   macro avg       0.73      0.69      0.70      2110\n",
      "weighted avg       0.77      0.79      0.78      2110\n",
      "\n"
     ]
    }
   ],
   "source": [
    "print(\"Classification Report for Decision Tree Model\")\n",
    "print(classification_report(y_tes`t, yhat_testm))"
   ]
  },
  {
   "cell_type": "markdown",
   "metadata": {},
   "source": [
    "## VII. Exporting Predictions and Probabilities to CSV"
   ]
  },
  {
   "cell_type": "code",
   "execution_count": 283,
   "metadata": {},
   "outputs": [],
   "source": [
    "X_test[\"predictions\"] = pd.DataFrame(yhat_testm)\n",
    "X_test[[\"stay_proba\",\"churn_proba\"]] = pd.DataFrame(yhat_testm_proba)"
   ]
  },
  {
   "cell_type": "code",
   "execution_count": 284,
   "metadata": {},
   "outputs": [],
   "source": [
    "churn_prediction = pd.concat([X_trainm, X_test])\n",
    "churn_prediction = churn_prediction[[\"predictions\",\"stay_proba\",\"churn_proba\"]]"
   ]
  },
  {
   "cell_type": "code",
   "execution_count": 285,
   "metadata": {},
   "outputs": [],
   "source": [
    "churn_prediction = telco.join(churn_prediction)"
   ]
  },
  {
   "cell_type": "code",
   "execution_count": 287,
   "metadata": {},
   "outputs": [],
   "source": [
    "churn_predictions = churn_prediction[[\"customer_id\",\"predictions\",\"stay_proba\",\"churn_proba\"]]\n",
    "churn_predictions.to_csv(r'telcochurn_probability_and_predictions.csv')"
   ]
  }
 ],
 "metadata": {
  "kernelspec": {
   "display_name": "Python 3",
   "language": "python",
   "name": "python3"
  },
  "language_info": {
   "codemirror_mode": {
    "name": "ipython",
    "version": 3
   },
   "file_extension": ".py",
   "mimetype": "text/x-python",
   "name": "python",
   "nbconvert_exporter": "python",
   "pygments_lexer": "ipython3",
   "version": "3.7.3"
  }
 },
 "nbformat": 4,
 "nbformat_minor": 2
}
