{
 "cells": [
  {
   "cell_type": "markdown",
   "metadata": {},
   "source": [
    "# Why Are Our Customers Churning?"
   ]
  },
  {
   "cell_type": "markdown",
   "metadata": {},
   "source": [
    "### Quick Reference\n",
    "I. Find Baseline Probability  \n",
    "II. Create a Baseline Model  \n",
    "III. Create/Test Models and Identify Ω Model  "
   ]
  },
  {
   "cell_type": "markdown",
   "metadata": {},
   "source": [
    "## I. Project Plan"
   ]
  },
  {
   "cell_type": "markdown",
   "metadata": {},
   "source": [
    "### Summary\n",
    "\n",
    "Zach, my team leader @ Telco Corp, wants to find out why our customers churning.  \n",
    "\n",
    "Below is a list of questions he wants answers to: _tk, theres a new question from Maggie_\n",
    "\n",
    "1. Are there features that indicate a higher propensity to churn? like type of internet service, type of phone service, online security and backup, senior citizens, paying more than x% of customers with the same services, etc.?\n",
    "2. Is there a price threshold for specific services where the likelihood of churn increases once price for those services goes past that point? If so, what is that point for what service(s)?\n",
    "3. If we looked at churn rate for month-to-month customers after the 12th month and that of 1-year contract customers after the 12th month, are those rates comparable?\n",
    "\n",
    "### Goals\n",
    "\n",
    "The goals of the project are to answer the questions above and to deliver the following data products:\n",
    "\n",
    "1. Report detailing my analysis in an .ipynb format\n",
    "2. CSV file containing my predictions on a test data set\n",
    "3. Google Slides explaining my chosen model\n",
    "4. .py files that are used through the entire pipeline, and that contains _reproducible_ python scripts\n",
    "5. Read Me file on a github repo containing all files created for this project\n",
    "  \n",
    "### Data Dictionary\n",
    "| Feature \t| Description \t| Table of Origin \t| Notes \t|\n",
    "|---------\t|-------------\t|-----------------\t|-------\t|\n",
    "|         \t|             \t|                 \t|       \t|\n",
    "|         \t|             \t|                 \t|       \t|\n",
    "|         \t|             \t|                 \t|       \t|\n",
    "|         \t|             \t|                 \t|       \t|\n",
    "|         \t|             \t|                 \t|       \t|\n",
    "|         \t|             \t|                 \t|       \t|\n",
    "|         \t|             \t|                 \t|       \t|\n",
    "|         \t|             \t|                 \t|       \t|\n",
    "|         \t|             \t|                 \t|       \t|\n",
    "|         \t|             \t|                 \t|       \t|\n",
    "|         \t|             \t|                 \t|       \t|\n",
    "|         \t|             \t|                 \t|       \t|\n",
    "|         \t|             \t|                 \t|       \t|\n",
    "|         \t|             \t|                 \t|       \t|\n",
    "|         \t|             \t|                 \t|       \t|\n",
    "|         \t|             \t|                 \t|       \t|\n",
    "|         \t|             \t|                 \t|       \t|\n",
    "|         \t|             \t|                 \t|       \t|\n",
    "|         \t|             \t|                 \t|       \t|\n",
    "|         \t|             \t|                 \t|       \t|\n",
    "|         \t|             \t|                 \t|       \t|\n",
    "|         \t|             \t|                 \t|       \t|\n",
    "|         \t|             \t|                 \t|       \t|\n",
    "|         \t|             \t|                 \t|       \t|\n",
    "|         \t|             \t|                 \t|       \t|\n",
    "|         \t|             \t|                 \t|       \t|\n",
    "|         \t|             \t|                 \t|       \t|\n",
    "|         \t|             \t|                 \t|       \t|\n",
    "|         \t|             \t|                 \t|       \t|"
   ]
  },
  {
   "cell_type": "markdown",
   "metadata": {},
   "source": [
    "### Packages"
   ]
  },
  {
   "cell_type": "code",
   "execution_count": 24,
   "metadata": {},
   "outputs": [],
   "source": [
    "import pandas as pd\n",
    "import numpy as np\n",
    "import seaborn as sns\n",
    "import pandas_profiling\n",
    "import matplotlib.pyplot as plt\n",
    "\n",
    "from sklearn.preprocessing import LabelEncoder, OrdinalEncoder\n",
    "\n",
    "import wrangle\n",
    "import prep\n",
    "import model\n",
    "import explore\n",
    "\n",
    "from sklearn.model_selection import train_test_split\n",
    "from sklearn.tree import export_graphviz\n",
    "import graphviz\n",
    "from sklearn.metrics import confusion_matrix\n",
    "from sklearn.metrics import classification_report\n",
    "\n",
    "import warnings\n",
    "warnings.filterwarnings(\"ignore\")\n",
    "\n",
    "from scipy.stats import binom"
   ]
  },
  {
   "cell_type": "markdown",
   "metadata": {},
   "source": [
    "## I. Find Baseline Probability"
   ]
  },
  {
   "cell_type": "markdown",
   "metadata": {},
   "source": [
    "With the available data, what is the proportion of customers who churn?"
   ]
  },
  {
   "cell_type": "markdown",
   "metadata": {},
   "source": [
    "```sql\n",
    "SELECT churn, count(*) /\n",
    "\t(SELECT count(*) FROM customers)\n",
    "FROM customers\n",
    "WHERE churn = \"Yes\"\n",
    "```"
   ]
  },
  {
   "cell_type": "markdown",
   "metadata": {},
   "source": [
    "Proportion of people who churned:\n",
    "0.2654 (out of 7043 observations)"
   ]
  },
  {
   "cell_type": "markdown",
   "metadata": {},
   "source": [
    "n = no. of trials  \n",
    "P = probability of success (success = Churned)"
   ]
  },
  {
   "cell_type": "code",
   "execution_count": 2,
   "metadata": {},
   "outputs": [
    {
     "data": {
      "text/plain": [
       "1.0"
      ]
     },
     "execution_count": 2,
     "metadata": {},
     "output_type": "execute_result"
    }
   ],
   "source": [
    "will_churn = binom(7043, 0.2654).sf(.5) # not sure about this yet. will come back later tk\n",
    "will_churn"
   ]
  },
  {
   "cell_type": "markdown",
   "metadata": {},
   "source": [
    "## II. Acquire and Split Data"
   ]
  },
  {
   "cell_type": "markdown",
   "metadata": {},
   "source": [
    "Using the `get_sql_telcochurn` function from `wrangle.py`, acquire data from `telco_churn` database on MySQL."
   ]
  },
  {
   "cell_type": "code",
   "execution_count": 3,
   "metadata": {},
   "outputs": [],
   "source": [
    "telco = wrangle.get_sql_telco()"
   ]
  },
  {
   "cell_type": "markdown",
   "metadata": {},
   "source": [
    "Split data to train and test, and set aside test data."
   ]
  },
  {
   "cell_type": "code",
   "execution_count": 4,
   "metadata": {},
   "outputs": [
    {
     "name": "stdout",
     "output_type": "stream",
     "text": [
      "<class 'pandas.core.frame.DataFrame'>\n",
      "RangeIndex: 7043 entries, 0 to 7042\n",
      "Data columns (total 21 columns):\n",
      "customer_id                 7043 non-null object\n",
      "gender                      7043 non-null object\n",
      "senior_citizen              7043 non-null int64\n",
      "partner                     7043 non-null object\n",
      "dependents                  7043 non-null object\n",
      "tenure                      7043 non-null int64\n",
      "phone_service               7043 non-null object\n",
      "multiple_lines              7043 non-null object\n",
      "internet_service_type_id    7043 non-null int64\n",
      "online_security             7043 non-null object\n",
      "online_backup               7043 non-null object\n",
      "device_protection           7043 non-null object\n",
      "tech_support                7043 non-null object\n",
      "streaming_tv                7043 non-null object\n",
      "streaming_movies            7043 non-null object\n",
      "contract_type_id            7043 non-null int64\n",
      "paperless_billing           7043 non-null object\n",
      "payment_type_id             7043 non-null int64\n",
      "monthly_charges             7043 non-null float64\n",
      "total_charges               7043 non-null object\n",
      "churn                       7043 non-null object\n",
      "dtypes: float64(1), int64(5), object(15)\n",
      "memory usage: 1.1+ MB\n"
     ]
    }
   ],
   "source": [
    "telco.info()"
   ]
  },
  {
   "cell_type": "code",
   "execution_count": 5,
   "metadata": {},
   "outputs": [
    {
     "data": {
      "text/plain": [
       "customer_id                  0\n",
       "gender                       0\n",
       "senior_citizen               0\n",
       "partner                      0\n",
       "dependents                   0\n",
       "tenure                       0\n",
       "phone_service                0\n",
       "multiple_lines               0\n",
       "internet_service_type_id     0\n",
       "online_security              0\n",
       "online_backup                0\n",
       "device_protection            0\n",
       "tech_support                 0\n",
       "streaming_tv                 0\n",
       "streaming_movies             0\n",
       "contract_type_id             0\n",
       "paperless_billing            0\n",
       "payment_type_id              0\n",
       "monthly_charges              0\n",
       "total_charges               11\n",
       "churn                        0\n",
       "dtype: int64"
      ]
     },
     "execution_count": 5,
     "metadata": {},
     "output_type": "execute_result"
    }
   ],
   "source": [
    "telco = telco.replace(\" \",np.nan)\n",
    "telco.isnull().sum()"
   ]
  },
  {
   "cell_type": "markdown",
   "metadata": {},
   "source": [
    "`total_charges` is an object type. There are 11 observations in the dataset that are encoded as empty. These observations are making the `total_charges` attribute an object instead of a float type.\n",
    "\n",
    "With the quantity of our total data set (7043) and the time alloted for the project, I could afford losing 11 observations to facilitate analysis. Therefore, I am dropping all the nulls hereon.\n",
    "\n",
    ">Action Steps:  \n",
    " >- Drop NaNs using `dropna()`\n",
    " >- Cast `total_charges` values to a float data type"
   ]
  },
  {
   "cell_type": "code",
   "execution_count": 6,
   "metadata": {},
   "outputs": [
    {
     "name": "stdout",
     "output_type": "stream",
     "text": [
      "\n",
      "From the original train count of 7043, telco now has a 7032 observations. Also, total charges is now a \"float64\" data type.\n",
      "\n"
     ]
    }
   ],
   "source": [
    "telco = telco.dropna()\n",
    "telco.total_charges = telco.total_charges.astype(\"float\")\n",
    "\n",
    "print(f\"\"\"\n",
    "From the original train count of 7043, telco now has a {len(telco)} observations. Also, total charges is now a \"{telco.total_charges.dtype}\" data type.\n",
    "\"\"\")"
   ]
  },
  {
   "cell_type": "markdown",
   "metadata": {},
   "source": [
    "### Split Test and Train Data"
   ]
  },
  {
   "cell_type": "code",
   "execution_count": 7,
   "metadata": {},
   "outputs": [
    {
     "name": "stdout",
     "output_type": "stream",
     "text": [
      "\n",
      "Train data size: 4922\n",
      "Test data size: 2110\n",
      "\n"
     ]
    }
   ],
   "source": [
    "train, test = train_test_split(telco, train_size=0.7, random_state=123)\n",
    "\n",
    "print(f\"\"\"\n",
    "Train data size: {len(train)}\n",
    "Test data size: {len(test)}\n",
    "\"\"\")"
   ]
  },
  {
   "cell_type": "markdown",
   "metadata": {},
   "source": [
    "## III. Perform Temporary Cleaning and Preliminary Exploration on Train Data"
   ]
  },
  {
   "cell_type": "code",
   "execution_count": 8,
   "metadata": {},
   "outputs": [
    {
     "data": {
      "text/plain": [
       "20.20      11\n",
       "19.75       9\n",
       "20.05       8\n",
       "19.65       8\n",
       "19.90       8\n",
       "45.30       7\n",
       "19.55       7\n",
       "20.25       6\n",
       "19.45       6\n",
       "20.15       6\n",
       "20.30       5\n",
       "20.45       5\n",
       "49.90       4\n",
       "69.60       4\n",
       "19.40       4\n",
       "69.95       4\n",
       "19.50       4\n",
       "70.60       4\n",
       "20.35       4\n",
       "20.50       4\n",
       "19.85       4\n",
       "69.90       4\n",
       "19.30       4\n",
       "19.20       4\n",
       "44.40       4\n",
       "69.65       4\n",
       "50.15       4\n",
       "19.95       4\n",
       "75.30       4\n",
       "44.00       4\n",
       "           ..\n",
       "6981.35     1\n",
       "890.60      1\n",
       "1414.80     1\n",
       "4566.50     1\n",
       "369.25      1\n",
       "2658.80     1\n",
       "3638.25     1\n",
       "120.25      1\n",
       "1534.05     1\n",
       "7262.00     1\n",
       "488.25      1\n",
       "4483.95     1\n",
       "3320.60     1\n",
       "126.05      1\n",
       "1374.35     1\n",
       "7238.60     1\n",
       "184.95      1\n",
       "1982.60     1\n",
       "1834.15     1\n",
       "187.75      1\n",
       "249.95      1\n",
       "8333.95     1\n",
       "7171.70     1\n",
       "3726.15     1\n",
       "3928.30     1\n",
       "964.90      1\n",
       "5958.85     1\n",
       "414.10      1\n",
       "68.75       1\n",
       "30.50       1\n",
       "Name: total_charges, Length: 6530, dtype: int64"
      ]
     },
     "execution_count": 8,
     "metadata": {},
     "output_type": "execute_result"
    }
   ],
   "source": [
    "telco.total_charges.value_counts(ascending=False, dropna=False)"
   ]
  },
  {
   "cell_type": "markdown",
   "metadata": {},
   "source": [
    "## III. Create a Baseline Decision Tree Model"
   ]
  },
  {
   "cell_type": "markdown",
   "metadata": {},
   "source": [
    "Because Decision Tree accepts discrete and continuous features, I will create baseline model using a Decision Tree.  \n",
    "> Action Steps:\n",
    "> - Encode `churn` into a computer-readable variable with 0s and 1s values, such that 0 = No (Stayed), 1 = Yes (Churned). Use `int_encode` function from `prep`\n",
    "   "
   ]
  },
  {
   "cell_type": "code",
   "execution_count": 9,
   "metadata": {},
   "outputs": [],
   "source": [
    "train[\"enc_churn\"] = train.churn.apply(prep.yes_no_to_boolean)"
   ]
  },
  {
   "cell_type": "code",
   "execution_count": 10,
   "metadata": {},
   "outputs": [],
   "source": [
    "X_train=train[[\"senior_citizen\",\"tenure\",\"internet_service_type_id\",\"contract_type_id\",\"payment_type_id\",\"monthly_charges\"]]\n",
    "y_train=train.enc_churn"
   ]
  },
  {
   "cell_type": "markdown",
   "metadata": {},
   "source": [
    "### Create a baseline model using Decision Tree"
   ]
  },
  {
   "cell_type": "markdown",
   "metadata": {},
   "source": [
    "Using `model_by_cart` function from `model.py`, create a decision tree model using all variables with numeric data as features (X), and the encoded churn variable `train.enc_churn` as the target variable (y)."
   ]
  },
  {
   "cell_type": "code",
   "execution_count": 11,
   "metadata": {},
   "outputs": [],
   "source": [
    "yhat_trainb, yhat_trainb_proba, dt = model.model_by_cart(X_train,y_train,\"entropy\",3)"
   ]
  },
  {
   "cell_type": "code",
   "execution_count": 12,
   "metadata": {},
   "outputs": [
    {
     "name": "stdout",
     "output_type": "stream",
     "text": [
      "\n",
      "Baseline Predictions:\n",
      "[0 0 0 ... 0 0 0]\n",
      "  \n",
      "Probabilities of Baseline Predictions:\n",
      "[[0.80952381 0.19047619]\n",
      " [0.55687204 0.44312796]\n",
      " [0.55687204 0.44312796]\n",
      " ...\n",
      " [0.60187668 0.39812332]\n",
      " [0.95333333 0.04666667]\n",
      " [0.80952381 0.19047619]]\n",
      "\n"
     ]
    }
   ],
   "source": [
    "print(f\"\"\"\n",
    "Baseline Predictions:\n",
    "{yhat_trainb}\n",
    "  \n",
    "Probabilities of Baseline Predictions:\n",
    "{yhat_trainb_proba}\n",
    "\"\"\")"
   ]
  },
  {
   "cell_type": "code",
   "execution_count": 13,
   "metadata": {},
   "outputs": [
    {
     "name": "stdout",
     "output_type": "stream",
     "text": [
      "0.7870784234051199\n"
     ]
    }
   ],
   "source": [
    "trainb_accuracy = dt.score(X_train, y_train)\n",
    "print(trainb_accuracy)"
   ]
  },
  {
   "cell_type": "code",
   "execution_count": 14,
   "metadata": {},
   "outputs": [
    {
     "data": {
      "text/html": [
       "<div>\n",
       "<style scoped>\n",
       "    .dataframe tbody tr th:only-of-type {\n",
       "        vertical-align: middle;\n",
       "    }\n",
       "\n",
       "    .dataframe tbody tr th {\n",
       "        vertical-align: top;\n",
       "    }\n",
       "\n",
       "    .dataframe thead th {\n",
       "        text-align: right;\n",
       "    }\n",
       "</style>\n",
       "<table border=\"1\" class=\"dataframe\">\n",
       "  <thead>\n",
       "    <tr style=\"text-align: right;\">\n",
       "      <th></th>\n",
       "      <th>stayed</th>\n",
       "      <th>churned</th>\n",
       "    </tr>\n",
       "  </thead>\n",
       "  <tbody>\n",
       "    <tr>\n",
       "      <th>stayed</th>\n",
       "      <td>3343</td>\n",
       "      <td>267</td>\n",
       "    </tr>\n",
       "    <tr>\n",
       "      <th>churned</th>\n",
       "      <td>781</td>\n",
       "      <td>531</td>\n",
       "    </tr>\n",
       "  </tbody>\n",
       "</table>\n",
       "</div>"
      ],
      "text/plain": [
       "         stayed  churned\n",
       "stayed     3343      267\n",
       "churned     781      531"
      ]
     },
     "execution_count": 14,
     "metadata": {},
     "output_type": "execute_result"
    }
   ],
   "source": [
    "labels = [\"stayed\",\"churned\"]\n",
    "trainb_conf = pd.DataFrame(confusion_matrix(y_train, yhat_trainb), index=labels, columns=labels)\n",
    "trainb_conf"
   ]
  },
  {
   "cell_type": "code",
   "execution_count": 15,
   "metadata": {},
   "outputs": [
    {
     "name": "stdout",
     "output_type": "stream",
     "text": [
      "              precision    recall  f1-score   support\n",
      "\n",
      "           0       0.81      0.93      0.86      3610\n",
      "           1       0.67      0.40      0.50      1312\n",
      "\n",
      "    accuracy                           0.79      4922\n",
      "   macro avg       0.74      0.67      0.68      4922\n",
      "weighted avg       0.77      0.79      0.77      4922\n",
      "\n"
     ]
    }
   ],
   "source": [
    "trainb_report = classification_report(y_train, yhat_trainb)\n",
    "print(trainb_report)"
   ]
  },
  {
   "cell_type": "markdown",
   "metadata": {},
   "source": [
    "![baseline_decision_tree](baseline_dtb.jpg)"
   ]
  },
  {
   "cell_type": "markdown",
   "metadata": {},
   "source": [
    "This is the code to produce the above decision tree diagram.\n",
    ">dot_data = export_graphviz(dt, out_file=None)  \n",
    ">graph = graphviz.Source(dot_data)  \n",
    ">graph.render('telco_dtb', view=True)"
   ]
  },
  {
   "cell_type": "markdown",
   "metadata": {},
   "source": [
    "## V. Create/Test Models"
   ]
  },
  {
   "cell_type": "markdown",
   "metadata": {},
   "source": [
    "<div class=\"alert alert-block alert-info\">\n",
    "<b>Question:</b> Are there features that indicate a higher propensity to churn? like type of internet service, type of phone service, online security and backup, senior citizens, paying more than x% of customers with the same services, etc.?\n",
    "</div>"
   ]
  },
  {
   "cell_type": "code",
   "execution_count": 16,
   "metadata": {},
   "outputs": [
    {
     "name": "stdout",
     "output_type": "stream",
     "text": [
      "<class 'pandas.core.frame.DataFrame'>\n",
      "Int64Index: 4922 entries, 463 to 3591\n",
      "Data columns (total 22 columns):\n",
      "customer_id                 4922 non-null object\n",
      "gender                      4922 non-null object\n",
      "senior_citizen              4922 non-null int64\n",
      "partner                     4922 non-null object\n",
      "dependents                  4922 non-null object\n",
      "tenure                      4922 non-null int64\n",
      "phone_service               4922 non-null object\n",
      "multiple_lines              4922 non-null object\n",
      "internet_service_type_id    4922 non-null int64\n",
      "online_security             4922 non-null object\n",
      "online_backup               4922 non-null object\n",
      "device_protection           4922 non-null object\n",
      "tech_support                4922 non-null object\n",
      "streaming_tv                4922 non-null object\n",
      "streaming_movies            4922 non-null object\n",
      "contract_type_id            4922 non-null int64\n",
      "paperless_billing           4922 non-null object\n",
      "payment_type_id             4922 non-null int64\n",
      "monthly_charges             4922 non-null float64\n",
      "total_charges               4922 non-null float64\n",
      "churn                       4922 non-null object\n",
      "enc_churn                   4922 non-null int64\n",
      "dtypes: float64(2), int64(6), object(14)\n",
      "memory usage: 884.4+ KB\n"
     ]
    }
   ],
   "source": [
    "train.info()"
   ]
  },
  {
   "cell_type": "markdown",
   "metadata": {},
   "source": [
    "Creating a new attribute `enc_phone_service` that tells what phone service types customers have:\n",
    "  - 0: No phone service\n",
    "  - 1: Single line phone service\n",
    "  - 2: Multiple lines phone service"
   ]
  },
  {
   "cell_type": "code",
   "execution_count": 38,
   "metadata": {},
   "outputs": [],
   "source": [
    "enc= OrdinalEncoder(categories=[[\"No phone service\",\"No\",\"Yes\"]],dtype=int)\n",
    "enc = enc.fit(train[[\"multiple_lines\"]])\n",
    "train[\"enc_phone_service\"] = enc.transform(train[[\"multiple_lines\"]])"
   ]
  },
  {
   "cell_type": "code",
   "execution_count": 40,
   "metadata": {},
   "outputs": [
    {
     "data": {
      "text/html": [
       "<div>\n",
       "<style scoped>\n",
       "    .dataframe tbody tr th:only-of-type {\n",
       "        vertical-align: middle;\n",
       "    }\n",
       "\n",
       "    .dataframe tbody tr th {\n",
       "        vertical-align: top;\n",
       "    }\n",
       "\n",
       "    .dataframe thead th {\n",
       "        text-align: right;\n",
       "    }\n",
       "</style>\n",
       "<table border=\"1\" class=\"dataframe\">\n",
       "  <thead>\n",
       "    <tr style=\"text-align: right;\">\n",
       "      <th></th>\n",
       "      <th>customer_id</th>\n",
       "      <th>gender</th>\n",
       "      <th>senior_citizen</th>\n",
       "      <th>partner</th>\n",
       "      <th>dependents</th>\n",
       "      <th>tenure</th>\n",
       "      <th>phone_service</th>\n",
       "      <th>multiple_lines</th>\n",
       "      <th>internet_service_type_id</th>\n",
       "      <th>online_security</th>\n",
       "      <th>...</th>\n",
       "      <th>streaming_tv</th>\n",
       "      <th>streaming_movies</th>\n",
       "      <th>contract_type_id</th>\n",
       "      <th>paperless_billing</th>\n",
       "      <th>payment_type_id</th>\n",
       "      <th>monthly_charges</th>\n",
       "      <th>total_charges</th>\n",
       "      <th>churn</th>\n",
       "      <th>enc_churn</th>\n",
       "      <th>enc_phone_service</th>\n",
       "    </tr>\n",
       "  </thead>\n",
       "  <tbody>\n",
       "    <tr>\n",
       "      <th>463</th>\n",
       "      <td>0678-RLHVP</td>\n",
       "      <td>Female</td>\n",
       "      <td>0</td>\n",
       "      <td>No</td>\n",
       "      <td>No</td>\n",
       "      <td>53</td>\n",
       "      <td>Yes</td>\n",
       "      <td>Yes</td>\n",
       "      <td>2</td>\n",
       "      <td>No</td>\n",
       "      <td>...</td>\n",
       "      <td>Yes</td>\n",
       "      <td>Yes</td>\n",
       "      <td>3</td>\n",
       "      <td>No</td>\n",
       "      <td>1</td>\n",
       "      <td>105.55</td>\n",
       "      <td>5682.25</td>\n",
       "      <td>No</td>\n",
       "      <td>0</td>\n",
       "      <td>2</td>\n",
       "    </tr>\n",
       "    <tr>\n",
       "      <th>5828</th>\n",
       "      <td>8203-XJZRC</td>\n",
       "      <td>Male</td>\n",
       "      <td>0</td>\n",
       "      <td>No</td>\n",
       "      <td>No</td>\n",
       "      <td>1</td>\n",
       "      <td>Yes</td>\n",
       "      <td>No</td>\n",
       "      <td>3</td>\n",
       "      <td>No internet service</td>\n",
       "      <td>...</td>\n",
       "      <td>No internet service</td>\n",
       "      <td>No internet service</td>\n",
       "      <td>1</td>\n",
       "      <td>No</td>\n",
       "      <td>2</td>\n",
       "      <td>20.25</td>\n",
       "      <td>20.25</td>\n",
       "      <td>No</td>\n",
       "      <td>0</td>\n",
       "      <td>1</td>\n",
       "    </tr>\n",
       "    <tr>\n",
       "      <th>1433</th>\n",
       "      <td>2111-DWYHN</td>\n",
       "      <td>Male</td>\n",
       "      <td>0</td>\n",
       "      <td>No</td>\n",
       "      <td>No</td>\n",
       "      <td>1</td>\n",
       "      <td>Yes</td>\n",
       "      <td>No</td>\n",
       "      <td>3</td>\n",
       "      <td>No internet service</td>\n",
       "      <td>...</td>\n",
       "      <td>No internet service</td>\n",
       "      <td>No internet service</td>\n",
       "      <td>1</td>\n",
       "      <td>No</td>\n",
       "      <td>2</td>\n",
       "      <td>21.10</td>\n",
       "      <td>21.10</td>\n",
       "      <td>No</td>\n",
       "      <td>0</td>\n",
       "      <td>1</td>\n",
       "    </tr>\n",
       "    <tr>\n",
       "      <th>2892</th>\n",
       "      <td>4119-ZYPZY</td>\n",
       "      <td>Male</td>\n",
       "      <td>1</td>\n",
       "      <td>No</td>\n",
       "      <td>No</td>\n",
       "      <td>71</td>\n",
       "      <td>Yes</td>\n",
       "      <td>Yes</td>\n",
       "      <td>2</td>\n",
       "      <td>No</td>\n",
       "      <td>...</td>\n",
       "      <td>Yes</td>\n",
       "      <td>Yes</td>\n",
       "      <td>3</td>\n",
       "      <td>Yes</td>\n",
       "      <td>1</td>\n",
       "      <td>106.80</td>\n",
       "      <td>7623.20</td>\n",
       "      <td>No</td>\n",
       "      <td>0</td>\n",
       "      <td>2</td>\n",
       "    </tr>\n",
       "    <tr>\n",
       "      <th>3915</th>\n",
       "      <td>5512-IDZEI</td>\n",
       "      <td>Male</td>\n",
       "      <td>0</td>\n",
       "      <td>Yes</td>\n",
       "      <td>Yes</td>\n",
       "      <td>46</td>\n",
       "      <td>Yes</td>\n",
       "      <td>Yes</td>\n",
       "      <td>3</td>\n",
       "      <td>No internet service</td>\n",
       "      <td>...</td>\n",
       "      <td>No internet service</td>\n",
       "      <td>No internet service</td>\n",
       "      <td>2</td>\n",
       "      <td>No</td>\n",
       "      <td>1</td>\n",
       "      <td>24.90</td>\n",
       "      <td>1174.80</td>\n",
       "      <td>No</td>\n",
       "      <td>0</td>\n",
       "      <td>2</td>\n",
       "    </tr>\n",
       "  </tbody>\n",
       "</table>\n",
       "<p>5 rows × 23 columns</p>\n",
       "</div>"
      ],
      "text/plain": [
       "     customer_id  gender  senior_citizen partner dependents  tenure  \\\n",
       "463   0678-RLHVP  Female               0      No         No      53   \n",
       "5828  8203-XJZRC    Male               0      No         No       1   \n",
       "1433  2111-DWYHN    Male               0      No         No       1   \n",
       "2892  4119-ZYPZY    Male               1      No         No      71   \n",
       "3915  5512-IDZEI    Male               0     Yes        Yes      46   \n",
       "\n",
       "     phone_service multiple_lines  internet_service_type_id  \\\n",
       "463            Yes            Yes                         2   \n",
       "5828           Yes             No                         3   \n",
       "1433           Yes             No                         3   \n",
       "2892           Yes            Yes                         2   \n",
       "3915           Yes            Yes                         3   \n",
       "\n",
       "          online_security  ...         streaming_tv     streaming_movies  \\\n",
       "463                    No  ...                  Yes                  Yes   \n",
       "5828  No internet service  ...  No internet service  No internet service   \n",
       "1433  No internet service  ...  No internet service  No internet service   \n",
       "2892                   No  ...                  Yes                  Yes   \n",
       "3915  No internet service  ...  No internet service  No internet service   \n",
       "\n",
       "     contract_type_id paperless_billing payment_type_id  monthly_charges  \\\n",
       "463                 3                No               1           105.55   \n",
       "5828                1                No               2            20.25   \n",
       "1433                1                No               2            21.10   \n",
       "2892                3               Yes               1           106.80   \n",
       "3915                2                No               1            24.90   \n",
       "\n",
       "     total_charges  churn  enc_churn  enc_phone_service  \n",
       "463        5682.25     No          0                  2  \n",
       "5828         20.25     No          0                  1  \n",
       "1433         21.10     No          0                  1  \n",
       "2892       7623.20     No          0                  2  \n",
       "3915       1174.80     No          0                  2  \n",
       "\n",
       "[5 rows x 23 columns]"
      ]
     },
     "execution_count": 40,
     "metadata": {},
     "output_type": "execute_result"
    }
   ],
   "source": [
    "train.head()"
   ]
  },
  {
   "cell_type": "markdown",
   "metadata": {},
   "source": [
    "Creating a new attribute `enc_household` that tells what phone service types customers have:\n",
    "  - 0: No phone service\n",
    "  - 1: Single line phone service\n",
    "  - 2: Multiple lines phone service"
   ]
  },
  {
   "cell_type": "code",
   "execution_count": null,
   "metadata": {},
   "outputs": [],
   "source": [
    "en"
   ]
  },
  {
   "cell_type": "code",
   "execution_count": null,
   "metadata": {},
   "outputs": [],
   "source": [
    "features = train.iloc[:,1:20].columns.tolist()\n",
    "target = \"enc_churn\"\n",
    "\n",
    "explore.plot_bars(features, target, train)"
   ]
  },
  {
   "cell_type": "code",
   "execution_count": null,
   "metadata": {
    "scrolled": true
   },
   "outputs": [],
   "source": []
  },
  {
   "cell_type": "markdown",
   "metadata": {},
   "source": [
    "**Questions I have after the simple vizes above:**\n",
    "\n",
    "1. Senior citizens churn more, why?\n",
    "    - high monthly charges? Why are they paying higher?\n",
    "    - electronic checks?\n",
    "    - online security and protection, backup\n",
    "    - device protection?\n",
    "    - customer support?\n",
    "    - contract type?\n",
    "    \n",
    "2. Paperless billing is higher and higher churn\n",
    " - higher monthly charge\n",
    " \n",
    "3. Payment Type ID\n",
    "- mailed checks have lesser monthly charges. control for senior citizen and other services\n",
    "\n",
    "4. Single line, lower charges but higher churn?? why?"
   ]
  },
  {
   "cell_type": "markdown",
   "metadata": {},
   "source": [
    "_$H0$: There is no difference in the exam scores for those who studied with flashcards and those who didn't.  \n",
    "$H1$: There is a difference in the exam scores for those who studied with flashcards and those who didn't._"
   ]
  },
  {
   "cell_type": "markdown",
   "metadata": {},
   "source": [
    "<div class=\"alert alert-block alert-info\">\n",
    "<b>Question:</b> Is there a price threshold for specific services where the likelihood of churn increases when the price for those services goes past that point? If so, what is that point for what service(s)?\n",
    "</div>"
   ]
  },
  {
   "cell_type": "code",
   "execution_count": null,
   "metadata": {},
   "outputs": [],
   "source": [
    "train.head()"
   ]
  },
  {
   "cell_type": "code",
   "execution_count": null,
   "metadata": {},
   "outputs": [],
   "source": [
    "train[\"monthly_bins\"] = pd.cut(train.monthly_charges,4)"
   ]
  },
  {
   "cell_type": "code",
   "execution_count": null,
   "metadata": {},
   "outputs": [],
   "source": [
    "plt.subplot(121)\n",
    "sns.barplot(x=\"monthly_bins\", y=\"enc_churn\", data=train, hue=\"internet_service_type_id\")\n",
    "plt.subplot(122)\n",
    "sns.barplot(x=\"monthly_bins\", y=\"enc_churn\", data=train, hue=\"phone_service\")"
   ]
  },
  {
   "cell_type": "code",
   "execution_count": null,
   "metadata": {},
   "outputs": [],
   "source": [
    "sns.barplot(x=\"monthly_bins\", y=\"enc_churn\", data=train, hue=\"phone_service\")"
   ]
  },
  {
   "cell_type": "code",
   "execution_count": null,
   "metadata": {},
   "outputs": [],
   "source": [
    "sns.barplot(x=train.contract_type_id, y=\"monthly_charges\",data=train,hue=\"churn\")\n",
    "plt.legend()\n",
    "plt.hlines(y=train.monthly_charges.mean(), xmin=-1, xmax=3, ls=\":\")"
   ]
  },
  {
   "cell_type": "code",
   "execution_count": null,
   "metadata": {},
   "outputs": [],
   "source": [
    "explore.plot_box(features,target,train)\n",
    "plt.legend()"
   ]
  },
  {
   "cell_type": "code",
   "execution_count": null,
   "metadata": {},
   "outputs": [],
   "source": [
    "sns.barplot(x=train.contract_type_id, y=\"monthly_charges\",data=train,hue=\"churn\")\n",
    "plt.legend()"
   ]
  },
  {
   "cell_type": "markdown",
   "metadata": {},
   "source": [
    "<div class=\"alert alert-block alert-info\">\n",
    "<b>Question:</b> IIf we looked at churn rate for month-to-month customers after the 12th month and that of 1-year contract customers after the 12th month, are those rates comparable?\n",
    "</div>"
   ]
  },
  {
   "cell_type": "markdown",
   "metadata": {},
   "source": [
    "**Answer:**  \n",
    "After the 12-month period lapsed, 38.3% churned. Out of those, 37% are on a month-to-month contract while only 0.1% are on a one-year contract."
   ]
  },
  {
   "cell_type": "code",
   "execution_count": null,
   "metadata": {},
   "outputs": [],
   "source": [
    "twelve_months = train[train.tenure == 13]\n",
    "pd.crosstab(twelve_months.churn, twelve_months.contract_type_id,normalize=True)"
   ]
  },
  {
   "cell_type": "code",
   "execution_count": null,
   "metadata": {},
   "outputs": [],
   "source": [
    "sns.barplot(y=\"enc_churn\",x=\"contract_type_id\", data=twelve_months, hue=\"contract_type_id\")"
   ]
  },
  {
   "cell_type": "code",
   "execution_count": null,
   "metadata": {},
   "outputs": [],
   "source": []
  }
 ],
 "metadata": {
  "kernelspec": {
   "display_name": "Python 3",
   "language": "python",
   "name": "python3"
  },
  "language_info": {
   "codemirror_mode": {
    "name": "ipython",
    "version": 3
   },
   "file_extension": ".py",
   "mimetype": "text/x-python",
   "name": "python",
   "nbconvert_exporter": "python",
   "pygments_lexer": "ipython3",
   "version": "3.7.3"
  }
 },
 "nbformat": 4,
 "nbformat_minor": 2
}
