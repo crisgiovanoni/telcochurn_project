{
 "cells": [
  {
   "cell_type": "markdown",
   "metadata": {},
   "source": [
    "# Why Are Our Customers Churning?"
   ]
  },
  {
   "cell_type": "markdown",
   "metadata": {},
   "source": [
    "### Quick Reference\n",
    "I. Find Baseline Probability  \n",
    "II. Create a Baseline Model  \n",
    "III. Create/Test Models and Identify Ω Model  "
   ]
  },
  {
   "cell_type": "markdown",
   "metadata": {},
   "source": [
    "## I. Project Plan"
   ]
  },
  {
   "cell_type": "markdown",
   "metadata": {},
   "source": [
    "### Summary\n",
    "\n",
    "Zach, my team leader @ Telco Corp, wants to find out why our customers churning.  \n",
    "\n",
    "Below is a list of questions he wants answers to:\n",
    "\n",
    "1. Could the month in which they signed up influence churn? i.e. if a cohort is identified by tenure, is there a cohort or cohorts who have a higher rate of churn than other cohorts? **(Plot the rate of churn on a line chart where x is the tenure and y is the rate of churn (customers churned/total customers))**tk\n",
    "2. Are there features that indicate a higher propensity to churn? like type of internet service, type of phone service, online security and backup, senior citizens, paying more than x% of customers with the same services, etc.?\n",
    "3. Is there a price threshold for specific services where the likelihood of churn increases once price for those services goes past that point? If so, what is that point for what service(s)?\n",
    "4. If we looked at churn rate for month-to-month customers after the 12th month and that of 1-year contract customers after the 12th month, are those rates comparable?\n",
    "\n",
    "### Goals\n",
    "\n",
    "The goals of the project are to answer the questions above and to deliver the following data products:\n",
    "\n",
    "1. Report detailing my analysis in an .ipynb format\n",
    "2. CSV file containing my predictions on a test data set\n",
    "3. Google Slides explaining my chosen model\n",
    "4. .py files that are used through the entire pipeline, and that contains _reproducible_ python scripts\n",
    "5. Read Me file on a github repo containing all files created for this project\n",
    "  \n",
    "### Data Dictionary\n",
    "| Feature \t| Description \t| Table of Origin \t| Notes \t|\n",
    "|---------\t|-------------\t|-----------------\t|-------\t|\n",
    "|         \t|             \t|                 \t|       \t|\n",
    "|         \t|             \t|                 \t|       \t|\n",
    "|         \t|             \t|                 \t|       \t|\n",
    "|         \t|             \t|                 \t|       \t|\n",
    "|         \t|             \t|                 \t|       \t|\n",
    "|         \t|             \t|                 \t|       \t|\n",
    "|         \t|             \t|                 \t|       \t|\n",
    "|         \t|             \t|                 \t|       \t|\n",
    "|         \t|             \t|                 \t|       \t|\n",
    "|         \t|             \t|                 \t|       \t|\n",
    "|         \t|             \t|                 \t|       \t|\n",
    "|         \t|             \t|                 \t|       \t|\n",
    "|         \t|             \t|                 \t|       \t|\n",
    "|         \t|             \t|                 \t|       \t|\n",
    "|         \t|             \t|                 \t|       \t|\n",
    "|         \t|             \t|                 \t|       \t|\n",
    "|         \t|             \t|                 \t|       \t|\n",
    "|         \t|             \t|                 \t|       \t|\n",
    "|         \t|             \t|                 \t|       \t|\n",
    "|         \t|             \t|                 \t|       \t|\n",
    "|         \t|             \t|                 \t|       \t|\n",
    "|         \t|             \t|                 \t|       \t|\n",
    "|         \t|             \t|                 \t|       \t|\n",
    "|         \t|             \t|                 \t|       \t|\n",
    "|         \t|             \t|                 \t|       \t|\n",
    "|         \t|             \t|                 \t|       \t|\n",
    "|         \t|             \t|                 \t|       \t|\n",
    "|         \t|             \t|                 \t|       \t|\n",
    "|         \t|             \t|                 \t|       \t|"
   ]
  },
  {
   "cell_type": "markdown",
   "metadata": {},
   "source": [
    "### Packages"
   ]
  },
  {
   "cell_type": "code",
   "execution_count": 1,
   "metadata": {},
   "outputs": [],
   "source": [
    "import pandas as pd\n",
    "import numpy as np\n",
    "\n",
    "import wrangle\n",
    "import prep\n",
    "import model\n",
    "\n",
    "from sklearn.model_selection import train_test_split\n",
    "\n",
    "import warnings\n",
    "warnings.filterwarnings(\"ignore\")\n",
    "\n",
    "from scipy.stats import binom"
   ]
  },
  {
   "cell_type": "markdown",
   "metadata": {},
   "source": [
    "## I. Find Baseline Probability"
   ]
  },
  {
   "cell_type": "markdown",
   "metadata": {},
   "source": [
    "With the available data, what is the proportion of customers who churn?"
   ]
  },
  {
   "cell_type": "markdown",
   "metadata": {},
   "source": [
    "```sql\n",
    "SELECT churn, count(*) /\n",
    "\t(SELECT count(*) FROM customers)\n",
    "FROM customers\n",
    "WHERE churn = \"Yes\"\n",
    "```"
   ]
  },
  {
   "cell_type": "markdown",
   "metadata": {},
   "source": [
    "Proportion of people who churned:\n",
    "0.2654 (out of 7043 observations)"
   ]
  },
  {
   "cell_type": "markdown",
   "metadata": {},
   "source": [
    "n = no. of trials  \n",
    "P = probability of success (success = Churned)"
   ]
  },
  {
   "cell_type": "code",
   "execution_count": 2,
   "metadata": {},
   "outputs": [
    {
     "data": {
      "text/plain": [
       "1.0"
      ]
     },
     "execution_count": 2,
     "metadata": {},
     "output_type": "execute_result"
    }
   ],
   "source": [
    "will_churn = binom(7043, 0.2654).sf(.5) # not sure about this yet. will come back later tk\n",
    "will_churn"
   ]
  },
  {
   "cell_type": "markdown",
   "metadata": {},
   "source": [
    "## II. Acquire and Split Data"
   ]
  },
  {
   "cell_type": "markdown",
   "metadata": {},
   "source": [
    "Using the `get_sql_telcochurn` function from `wrangle.py`, acquire data from `telco_churn` database on MySQL."
   ]
  },
  {
   "cell_type": "code",
   "execution_count": 3,
   "metadata": {},
   "outputs": [],
   "source": [
    "telco = wrangle.get_sql_telco()"
   ]
  },
  {
   "cell_type": "markdown",
   "metadata": {},
   "source": [
    "Split data to train and test, and set aside test data."
   ]
  },
  {
   "cell_type": "code",
   "execution_count": 4,
   "metadata": {},
   "outputs": [
    {
     "name": "stdout",
     "output_type": "stream",
     "text": [
      "\n",
      "Train data size: 4930\n",
      "Test data size: 2113\n",
      "\n"
     ]
    }
   ],
   "source": [
    "train, test = train_test_split(telco, train_size=0.7, random_state=123)\n",
    "\n",
    "print(f\"\"\"\n",
    "Train data size: {len(train)}\n",
    "Test data size: {len(test)}\n",
    "\"\"\")"
   ]
  },
  {
   "cell_type": "markdown",
   "metadata": {},
   "source": [
    "## III. Perform Temporary Cleaning and Preliminary Exploration on Train Data"
   ]
  },
  {
   "cell_type": "markdown",
   "metadata": {},
   "source": [
    "### Temporary Cleaning"
   ]
  },
  {
   "cell_type": "code",
   "execution_count": 5,
   "metadata": {},
   "outputs": [
    {
     "name": "stdout",
     "output_type": "stream",
     "text": [
      "<class 'pandas.core.frame.DataFrame'>\n",
      "Int64Index: 4930 entries, 1479 to 3582\n",
      "Data columns (total 21 columns):\n",
      "customer_id                 4930 non-null object\n",
      "gender                      4930 non-null object\n",
      "senior_citizen              4930 non-null int64\n",
      "partner                     4930 non-null object\n",
      "dependents                  4930 non-null object\n",
      "tenure                      4930 non-null int64\n",
      "phone_service               4930 non-null object\n",
      "multiple_lines              4930 non-null object\n",
      "internet_service_type_id    4930 non-null int64\n",
      "online_security             4930 non-null object\n",
      "online_backup               4930 non-null object\n",
      "device_protection           4930 non-null object\n",
      "tech_support                4930 non-null object\n",
      "streaming_tv                4930 non-null object\n",
      "streaming_movies            4930 non-null object\n",
      "contract_type_id            4930 non-null int64\n",
      "paperless_billing           4930 non-null object\n",
      "payment_type_id             4930 non-null int64\n",
      "monthly_charges             4930 non-null float64\n",
      "total_charges               4930 non-null object\n",
      "churn                       4930 non-null object\n",
      "dtypes: float64(1), int64(5), object(15)\n",
      "memory usage: 847.3+ KB\n"
     ]
    }
   ],
   "source": [
    "train.info()"
   ]
  },
  {
   "cell_type": "markdown",
   "metadata": {},
   "source": [
    "`total_charges` is an object type. There are 8 observations in the `train` data that are encoded NaN types. These observations are making this attribute an object instead of a float type.\n",
    "\n",
    "At this phase, I have not definitely determined if I want to impute these nulls or drop them completely. So to facilitate exploration, I am creating `traindrp` which is a copy of train data without the nulls.\n",
    "\n",
    ">Action Steps:  \n",
    " >- Drop NaNs using `dropna()`\n",
    " >- Cast values to a float data type"
   ]
  },
  {
   "cell_type": "code",
   "execution_count": 6,
   "metadata": {},
   "outputs": [
    {
     "data": {
      "text/plain": [
       "           8\n",
       "20.05      7\n",
       "19.65      7\n",
       "45.3       6\n",
       "19.75      6\n",
       "19.9       5\n",
       "20.25      5\n",
       "20.2       5\n",
       "19.55      5\n",
       "19.45      4\n",
       "20.3       4\n",
       "20.4       4\n",
       "20.35      4\n",
       "69.9       4\n",
       "19.5       4\n",
       "69.65      4\n",
       "20.45      4\n",
       "19.95      3\n",
       "70.3       3\n",
       "44.4       3\n",
       "69.1       3\n",
       "74.6       3\n",
       "470.2      3\n",
       "19.25      3\n",
       "19.3       3\n",
       "24.4       3\n",
       "55.7       3\n",
       "305.55     3\n",
       "70.15      3\n",
       "20.5       3\n",
       "          ..\n",
       "4543.95    1\n",
       "1054.8     1\n",
       "1233.25    1\n",
       "927.1      1\n",
       "934.1      1\n",
       "5175.3     1\n",
       "6296.75    1\n",
       "1043.4     1\n",
       "3824.2     1\n",
       "4250.1     1\n",
       "2088.75    1\n",
       "4735.35    1\n",
       "1216.35    1\n",
       "4895.1     1\n",
       "990.3      1\n",
       "5032.25    1\n",
       "3141.7     1\n",
       "1810.55    1\n",
       "679.8      1\n",
       "978.6      1\n",
       "6017.9     1\n",
       "2157.5     1\n",
       "4487.3     1\n",
       "6689       1\n",
       "2970.8     1\n",
       "553.4      1\n",
       "7413.55    1\n",
       "564.4      1\n",
       "3623.95    1\n",
       "298.45     1\n",
       "Name: total_charges, Length: 4636, dtype: int64"
      ]
     },
     "execution_count": 6,
     "metadata": {},
     "output_type": "execute_result"
    }
   ],
   "source": [
    "train.total_charges.isnull().sum()\n",
    "train.total_charges.value_counts(ascending=False, dropna=False)"
   ]
  },
  {
   "cell_type": "code",
   "execution_count": 7,
   "metadata": {},
   "outputs": [
    {
     "name": "stdout",
     "output_type": "stream",
     "text": [
      "\n",
      "From the original train count of 4930, traindrp has a reduced observation count of 4922. Also, total charges is now recast as a \"float64\" data type.\n",
      "\n"
     ]
    }
   ],
   "source": [
    "traindrp = train.copy()\n",
    "traindrp = traindrp.replace(\" \",np.nan).dropna()\n",
    "traindrp.total_charges = traindrp.total_charges.astype(\"float\")\n",
    "\n",
    "print(f\"\"\"\n",
    "From the original train count of {len(train)}, traindrp has a reduced observation count of {len(traindrp)}. Also, total charges is now recast as a \"{traindrp.total_charges.dtype}\" data type.\n",
    "\"\"\")"
   ]
  },
  {
   "cell_type": "markdown",
   "metadata": {},
   "source": [
    "## III. Create Baseline Model"
   ]
  },
  {
   "cell_type": "markdown",
   "metadata": {},
   "source": [
    "Because Decision Tree accepts discrete and continuous features, I will create baseline model using a Decision Tree.  \n",
    "> Action Steps:\n",
    "> - Encode `churn` into a computer-readable variable with 0s and 1s values, such that 0 = No (Stayed), 1 = Yes (Churned). Use `int_encode` function from `prep`\n",
    "   "
   ]
  },
  {
   "cell_type": "code",
   "execution_count": 8,
   "metadata": {},
   "outputs": [],
   "source": [
    "traindrp[\"enc_churn\"] = traindrp.churn.apply(prep.yes_no_to_boolean)"
   ]
  },
  {
   "cell_type": "code",
   "execution_count": 9,
   "metadata": {},
   "outputs": [
    {
     "data": {
      "text/html": [
       "<div>\n",
       "<style scoped>\n",
       "    .dataframe tbody tr th:only-of-type {\n",
       "        vertical-align: middle;\n",
       "    }\n",
       "\n",
       "    .dataframe tbody tr th {\n",
       "        vertical-align: top;\n",
       "    }\n",
       "\n",
       "    .dataframe thead th {\n",
       "        text-align: right;\n",
       "    }\n",
       "</style>\n",
       "<table border=\"1\" class=\"dataframe\">\n",
       "  <thead>\n",
       "    <tr style=\"text-align: right;\">\n",
       "      <th></th>\n",
       "      <th>customer_id</th>\n",
       "      <th>gender</th>\n",
       "      <th>senior_citizen</th>\n",
       "      <th>partner</th>\n",
       "      <th>dependents</th>\n",
       "      <th>tenure</th>\n",
       "      <th>phone_service</th>\n",
       "      <th>multiple_lines</th>\n",
       "      <th>internet_service_type_id</th>\n",
       "      <th>online_security</th>\n",
       "      <th>...</th>\n",
       "      <th>tech_support</th>\n",
       "      <th>streaming_tv</th>\n",
       "      <th>streaming_movies</th>\n",
       "      <th>contract_type_id</th>\n",
       "      <th>paperless_billing</th>\n",
       "      <th>payment_type_id</th>\n",
       "      <th>monthly_charges</th>\n",
       "      <th>total_charges</th>\n",
       "      <th>churn</th>\n",
       "      <th>enc_churn</th>\n",
       "    </tr>\n",
       "  </thead>\n",
       "  <tbody>\n",
       "    <tr>\n",
       "      <th>1479</th>\n",
       "      <td>2187-PKZAY</td>\n",
       "      <td>Male</td>\n",
       "      <td>0</td>\n",
       "      <td>No</td>\n",
       "      <td>No</td>\n",
       "      <td>12</td>\n",
       "      <td>Yes</td>\n",
       "      <td>No</td>\n",
       "      <td>2</td>\n",
       "      <td>No</td>\n",
       "      <td>...</td>\n",
       "      <td>No</td>\n",
       "      <td>No</td>\n",
       "      <td>Yes</td>\n",
       "      <td>1</td>\n",
       "      <td>Yes</td>\n",
       "      <td>3</td>\n",
       "      <td>79.95</td>\n",
       "      <td>1043.40</td>\n",
       "      <td>No</td>\n",
       "      <td>0</td>\n",
       "    </tr>\n",
       "    <tr>\n",
       "      <th>2377</th>\n",
       "      <td>3402-XRIUO</td>\n",
       "      <td>Female</td>\n",
       "      <td>1</td>\n",
       "      <td>Yes</td>\n",
       "      <td>No</td>\n",
       "      <td>22</td>\n",
       "      <td>Yes</td>\n",
       "      <td>Yes</td>\n",
       "      <td>1</td>\n",
       "      <td>Yes</td>\n",
       "      <td>...</td>\n",
       "      <td>Yes</td>\n",
       "      <td>No</td>\n",
       "      <td>No</td>\n",
       "      <td>1</td>\n",
       "      <td>Yes</td>\n",
       "      <td>2</td>\n",
       "      <td>63.55</td>\n",
       "      <td>1381.80</td>\n",
       "      <td>No</td>\n",
       "      <td>0</td>\n",
       "    </tr>\n",
       "    <tr>\n",
       "      <th>6613</th>\n",
       "      <td>9397-TZSHA</td>\n",
       "      <td>Female</td>\n",
       "      <td>0</td>\n",
       "      <td>No</td>\n",
       "      <td>No</td>\n",
       "      <td>69</td>\n",
       "      <td>Yes</td>\n",
       "      <td>Yes</td>\n",
       "      <td>3</td>\n",
       "      <td>No internet service</td>\n",
       "      <td>...</td>\n",
       "      <td>No internet service</td>\n",
       "      <td>No internet service</td>\n",
       "      <td>No internet service</td>\n",
       "      <td>3</td>\n",
       "      <td>No</td>\n",
       "      <td>4</td>\n",
       "      <td>24.60</td>\n",
       "      <td>1678.05</td>\n",
       "      <td>No</td>\n",
       "      <td>0</td>\n",
       "    </tr>\n",
       "    <tr>\n",
       "      <th>6468</th>\n",
       "      <td>9153-BTBVV</td>\n",
       "      <td>Female</td>\n",
       "      <td>0</td>\n",
       "      <td>Yes</td>\n",
       "      <td>No</td>\n",
       "      <td>71</td>\n",
       "      <td>Yes</td>\n",
       "      <td>Yes</td>\n",
       "      <td>3</td>\n",
       "      <td>No internet service</td>\n",
       "      <td>...</td>\n",
       "      <td>No internet service</td>\n",
       "      <td>No internet service</td>\n",
       "      <td>No internet service</td>\n",
       "      <td>3</td>\n",
       "      <td>No</td>\n",
       "      <td>3</td>\n",
       "      <td>25.00</td>\n",
       "      <td>1753.00</td>\n",
       "      <td>No</td>\n",
       "      <td>0</td>\n",
       "    </tr>\n",
       "    <tr>\n",
       "      <th>2668</th>\n",
       "      <td>3793-MMFUH</td>\n",
       "      <td>Female</td>\n",
       "      <td>1</td>\n",
       "      <td>No</td>\n",
       "      <td>No</td>\n",
       "      <td>13</td>\n",
       "      <td>Yes</td>\n",
       "      <td>Yes</td>\n",
       "      <td>2</td>\n",
       "      <td>No</td>\n",
       "      <td>...</td>\n",
       "      <td>No</td>\n",
       "      <td>Yes</td>\n",
       "      <td>Yes</td>\n",
       "      <td>1</td>\n",
       "      <td>Yes</td>\n",
       "      <td>1</td>\n",
       "      <td>95.05</td>\n",
       "      <td>1290.00</td>\n",
       "      <td>Yes</td>\n",
       "      <td>1</td>\n",
       "    </tr>\n",
       "  </tbody>\n",
       "</table>\n",
       "<p>5 rows × 22 columns</p>\n",
       "</div>"
      ],
      "text/plain": [
       "     customer_id  gender  senior_citizen partner dependents  tenure  \\\n",
       "1479  2187-PKZAY    Male               0      No         No      12   \n",
       "2377  3402-XRIUO  Female               1     Yes         No      22   \n",
       "6613  9397-TZSHA  Female               0      No         No      69   \n",
       "6468  9153-BTBVV  Female               0     Yes         No      71   \n",
       "2668  3793-MMFUH  Female               1      No         No      13   \n",
       "\n",
       "     phone_service multiple_lines  internet_service_type_id  \\\n",
       "1479           Yes             No                         2   \n",
       "2377           Yes            Yes                         1   \n",
       "6613           Yes            Yes                         3   \n",
       "6468           Yes            Yes                         3   \n",
       "2668           Yes            Yes                         2   \n",
       "\n",
       "          online_security  ...         tech_support         streaming_tv  \\\n",
       "1479                   No  ...                   No                   No   \n",
       "2377                  Yes  ...                  Yes                   No   \n",
       "6613  No internet service  ...  No internet service  No internet service   \n",
       "6468  No internet service  ...  No internet service  No internet service   \n",
       "2668                   No  ...                   No                  Yes   \n",
       "\n",
       "         streaming_movies contract_type_id paperless_billing  payment_type_id  \\\n",
       "1479                  Yes                1               Yes                3   \n",
       "2377                   No                1               Yes                2   \n",
       "6613  No internet service                3                No                4   \n",
       "6468  No internet service                3                No                3   \n",
       "2668                  Yes                1               Yes                1   \n",
       "\n",
       "     monthly_charges  total_charges  churn  enc_churn  \n",
       "1479           79.95        1043.40     No          0  \n",
       "2377           63.55        1381.80     No          0  \n",
       "6613           24.60        1678.05     No          0  \n",
       "6468           25.00        1753.00     No          0  \n",
       "2668           95.05        1290.00    Yes          1  \n",
       "\n",
       "[5 rows x 22 columns]"
      ]
     },
     "execution_count": 9,
     "metadata": {},
     "output_type": "execute_result"
    }
   ],
   "source": [
    "traindrp.head()"
   ]
  },
  {
   "cell_type": "code",
   "execution_count": null,
   "metadata": {},
   "outputs": [],
   "source": [
    "model_by_cart"
   ]
  }
 ],
 "metadata": {
  "kernelspec": {
   "display_name": "Python 3",
   "language": "python",
   "name": "python3"
  },
  "language_info": {
   "codemirror_mode": {
    "name": "ipython",
    "version": 3
   },
   "file_extension": ".py",
   "mimetype": "text/x-python",
   "name": "python",
   "nbconvert_exporter": "python",
   "pygments_lexer": "ipython3",
   "version": "3.7.3"
  }
 },
 "nbformat": 4,
 "nbformat_minor": 2
}
